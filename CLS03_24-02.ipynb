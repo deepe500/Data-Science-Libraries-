{
 "cells": [
  {
   "cell_type": "code",
   "execution_count": 2,
   "id": "5b9241d2",
   "metadata": {},
   "outputs": [],
   "source": [
    "#FUNCTIONS:- THEY ARE SET OF CODE THAT IS EXECUTED WHEN WE CALL IT\n",
    "#            USED TO INCREASE REUSABLITY OF CODE\n",
    "#FUNCTIONS:- 1 INBUILT:- LEN(),sum(),max()\n",
    "            #2 USER DEFINED:-def function_name(parameter):\n",
    "                                 #body"
   ]
  },
  {
   "cell_type": "code",
   "execution_count": 5,
   "id": "6f96d3df",
   "metadata": {},
   "outputs": [],
   "source": [
    "def le(k):\n",
    "    l=0\n",
    "    for i in k:\n",
    "        l+=1\n",
    "    print(l)"
   ]
  },
  {
   "cell_type": "code",
   "execution_count": 6,
   "id": "df5244f4",
   "metadata": {},
   "outputs": [
    {
     "name": "stdout",
     "output_type": "stream",
     "text": [
      "7\n"
     ]
    }
   ],
   "source": [
    "l =[1,3,2,34,5,53,3]\n",
    "le(l)"
   ]
  },
  {
   "cell_type": "code",
   "execution_count": 7,
   "id": "c114ba0d",
   "metadata": {},
   "outputs": [],
   "source": [
    "#parameter function define ke time use hote h aur arguement call ke time use hote h"
   ]
  },
  {
   "cell_type": "code",
   "execution_count": 17,
   "id": "9e3656c1",
   "metadata": {},
   "outputs": [
    {
     "name": "stdout",
     "output_type": "stream",
     "text": [
      "10.285714285714286\n"
     ]
    }
   ],
   "source": [
    "l=[12,34,6,[8,3],6,3]\n",
    "#wap to find avg of given list\n",
    "le=0\n",
    "s=0\n",
    "for i in l:\n",
    "    if type(i)== list:\n",
    "        for j in i:\n",
    "            le+=1\n",
    "            s+=j\n",
    "    else:\n",
    "        le+=1\n",
    "        s+=i\n",
    "print(s/le)"
   ]
  },
  {
   "cell_type": "code",
   "execution_count": 19,
   "id": "11c2e56d",
   "metadata": {},
   "outputs": [
    {
     "data": {
      "text/plain": [
       "[12, 34, 6, 8, 3, 6, 3]"
      ]
     },
     "execution_count": 19,
     "metadata": {},
     "output_type": "execute_result"
    }
   ],
   "source": [
    "a=[]\n",
    "l=[12,34,6,[8,3],6,3]\n",
    "for i in l:\n",
    "    if type(i)== list:\n",
    "        for j in i:\n",
    "           a.append(j) \n",
    "    else:\n",
    "        a.append(i)\n",
    "a"
   ]
  },
  {
   "cell_type": "code",
   "execution_count": 20,
   "id": "f65b1eab",
   "metadata": {},
   "outputs": [],
   "source": [
    "#return:- output can be reuse  return aate hi function terminate hoga\n",
    "def ki(o):\n",
    "    return \"ohh \"+o"
   ]
  },
  {
   "cell_type": "code",
   "execution_count": 21,
   "id": "df788d5b",
   "metadata": {},
   "outputs": [
    {
     "data": {
      "text/plain": [
       "'ohh yeaahh'"
      ]
     },
     "execution_count": 21,
     "metadata": {},
     "output_type": "execute_result"
    }
   ],
   "source": [
    "h='yeaahh'\n",
    "ki(h)"
   ]
  },
  {
   "cell_type": "code",
   "execution_count": 22,
   "id": "667bae04",
   "metadata": {},
   "outputs": [],
   "source": [
    "h=ki(\"my god\")"
   ]
  },
  {
   "cell_type": "code",
   "execution_count": 23,
   "id": "23d4634f",
   "metadata": {},
   "outputs": [
    {
     "data": {
      "text/plain": [
       "'ohh my god'"
      ]
     },
     "execution_count": 23,
     "metadata": {},
     "output_type": "execute_result"
    }
   ],
   "source": [
    "h"
   ]
  },
  {
   "cell_type": "code",
   "execution_count": 24,
   "id": "05b1da27",
   "metadata": {},
   "outputs": [],
   "source": [
    "#generators: used to get multiple outputs from a function\n",
    "#       yield: keyword used to create a generator"
   ]
  },
  {
   "cell_type": "code",
   "execution_count": 25,
   "id": "de250429",
   "metadata": {},
   "outputs": [],
   "source": [
    "def g():\n",
    "    for i in range (1,12):\n",
    "        yield i"
   ]
  },
  {
   "cell_type": "code",
   "execution_count": 26,
   "id": "c49f34be",
   "metadata": {},
   "outputs": [
    {
     "data": {
      "text/plain": [
       "<generator object g at 0x000001635B172200>"
      ]
     },
     "execution_count": 26,
     "metadata": {},
     "output_type": "execute_result"
    }
   ],
   "source": [
    "g()"
   ]
  },
  {
   "cell_type": "code",
   "execution_count": 27,
   "id": "51913a69",
   "metadata": {},
   "outputs": [
    {
     "data": {
      "text/plain": [
       "[1, 2, 3, 4, 5, 6, 7, 8, 9, 10, 11]"
      ]
     },
     "execution_count": 27,
     "metadata": {},
     "output_type": "execute_result"
    }
   ],
   "source": [
    "list(g())"
   ]
  },
  {
   "cell_type": "code",
   "execution_count": 28,
   "id": "7b814a18",
   "metadata": {},
   "outputs": [
    {
     "data": {
      "text/plain": [
       "[1, 2, 3, 4, 5, 6, 7, 8, 9, 10, 11]"
      ]
     },
     "execution_count": 28,
     "metadata": {},
     "output_type": "execute_result"
    }
   ],
   "source": [
    "t=list(g())\n",
    "t"
   ]
  },
  {
   "cell_type": "code",
   "execution_count": 46,
   "id": "0b9595d8",
   "metadata": {},
   "outputs": [],
   "source": [
    "#wap generaotor to print from 1 till given number\n",
    "def table(n):\n",
    "    for y in range (1,n+1):\n",
    "        for i in range(1,11):\n",
    "            yield (y,'*',i,'=',y*i)\n"
   ]
  },
  {
   "cell_type": "code",
   "execution_count": 47,
   "id": "03a5d236",
   "metadata": {},
   "outputs": [
    {
     "name": "stdout",
     "output_type": "stream",
     "text": [
      "3\n"
     ]
    },
    {
     "data": {
      "text/plain": [
       "[(1, '*', 1, '=', 1),\n",
       " (1, '*', 2, '=', 2),\n",
       " (1, '*', 3, '=', 3),\n",
       " (1, '*', 4, '=', 4),\n",
       " (1, '*', 5, '=', 5),\n",
       " (1, '*', 6, '=', 6),\n",
       " (1, '*', 7, '=', 7),\n",
       " (1, '*', 8, '=', 8),\n",
       " (1, '*', 9, '=', 9),\n",
       " (1, '*', 10, '=', 10),\n",
       " (2, '*', 1, '=', 2),\n",
       " (2, '*', 2, '=', 4),\n",
       " (2, '*', 3, '=', 6),\n",
       " (2, '*', 4, '=', 8),\n",
       " (2, '*', 5, '=', 10),\n",
       " (2, '*', 6, '=', 12),\n",
       " (2, '*', 7, '=', 14),\n",
       " (2, '*', 8, '=', 16),\n",
       " (2, '*', 9, '=', 18),\n",
       " (2, '*', 10, '=', 20),\n",
       " (3, '*', 1, '=', 3),\n",
       " (3, '*', 2, '=', 6),\n",
       " (3, '*', 3, '=', 9),\n",
       " (3, '*', 4, '=', 12),\n",
       " (3, '*', 5, '=', 15),\n",
       " (3, '*', 6, '=', 18),\n",
       " (3, '*', 7, '=', 21),\n",
       " (3, '*', 8, '=', 24),\n",
       " (3, '*', 9, '=', 27),\n",
       " (3, '*', 10, '=', 30)]"
      ]
     },
     "execution_count": 47,
     "metadata": {},
     "output_type": "execute_result"
    }
   ],
   "source": [
    "p=int(input())\n",
    "list(table(p))\n"
   ]
  },
  {
   "cell_type": "code",
   "execution_count": 48,
   "id": "16acb2a1",
   "metadata": {},
   "outputs": [
    {
     "name": "stdout",
     "output_type": "stream",
     "text": [
      "enter input:-HeLlo MfS\n",
      "H L M S "
     ]
    }
   ],
   "source": [
    "s=input('enter input:-')\n",
    "for i in s:\n",
    "    if i.isupper():\n",
    "        print(i, end=\" \")"
   ]
  },
  {
   "cell_type": "code",
   "execution_count": 61,
   "id": "4e0ac829",
   "metadata": {},
   "outputs": [
    {
     "name": "stdout",
     "output_type": "stream",
     "text": [
      "aaawswsswswedffcfdddfc\n",
      "0\n"
     ]
    }
   ],
   "source": [
    "s=input()\n",
    "j=0\n",
    "for i in s:\n",
    "    x=s.count(i)\n",
    "    if(j>x):\n",
    "        j=x\n",
    "print(j)"
   ]
  },
  {
   "cell_type": "code",
   "execution_count": 72,
   "id": "11e701b1",
   "metadata": {},
   "outputs": [
    {
     "name": "stdout",
     "output_type": "stream",
     "text": [
      ",ygylgubkbk2\n",
      "contains a digit\n"
     ]
    }
   ],
   "source": [
    "s=input()\n",
    "for i in s:\n",
    "    if i.isdigit():\n",
    "        print('contains a digit')\n",
    "    "
   ]
  },
  {
   "cell_type": "code",
   "execution_count": 80,
   "id": "63af2b84",
   "metadata": {},
   "outputs": [
    {
     "name": "stdout",
     "output_type": "stream",
     "text": [
      "satija\n",
      "s\n",
      "t\n",
      "i\n",
      "j\n"
     ]
    }
   ],
   "source": [
    "s=input()\n",
    "d={}\n",
    "for i in s:\n",
    "    d[i]=s.count(i)\n",
    "m=min(d.values())\n",
    "for i in d:\n",
    "    if d[i]==m:\n",
    "        print(i)\n",
    "\n"
   ]
  },
  {
   "cell_type": "code",
   "execution_count": 93,
   "id": "27183afd",
   "metadata": {},
   "outputs": [],
   "source": [
    "h='hello four bhai how are you'"
   ]
  },
  {
   "cell_type": "code",
   "execution_count": 94,
   "id": "f9611cc2",
   "metadata": {},
   "outputs": [
    {
     "name": "stdout",
     "output_type": "stream",
     "text": [
      "['hello', 'four', 'bhai', 'how', 'are', 'you']\n"
     ]
    }
   ],
   "source": [
    "j=h.split(' ')\n",
    "print(j)"
   ]
  },
  {
   "cell_type": "code",
   "execution_count": 95,
   "id": "a029d655",
   "metadata": {},
   "outputs": [
    {
     "name": "stdout",
     "output_type": "stream",
     "text": [
      "four\n",
      "bhai\n"
     ]
    }
   ],
   "source": [
    "i=0\n",
    "while i < len(j):\n",
    "    if len(j[i])%2==0:\n",
    "        print(j[i])\n",
    "    i=i+1"
   ]
  },
  {
   "cell_type": "code",
   "execution_count": 96,
   "id": "04148cae",
   "metadata": {},
   "outputs": [],
   "source": [
    "#recurrsion : loop se efficient and outpur]t mein khud ko call krta hai"
   ]
  },
  {
   "cell_type": "code",
   "execution_count": 97,
   "id": "55494df8",
   "metadata": {},
   "outputs": [],
   "source": [
    "#1-10\n",
    "def cou(s,e):\n",
    "    if s<=e:\n",
    "        print(s)\n",
    "        return cou(s+1,e)\n",
    "    "
   ]
  },
  {
   "cell_type": "code",
   "execution_count": 99,
   "id": "441810bb",
   "metadata": {},
   "outputs": [
    {
     "name": "stdout",
     "output_type": "stream",
     "text": [
      "1\n",
      "2\n",
      "3\n",
      "4\n",
      "5\n",
      "6\n",
      "7\n",
      "8\n",
      "9\n",
      "10\n",
      "11\n",
      "12\n"
     ]
    }
   ],
   "source": [
    "cou(1,12)"
   ]
  },
  {
   "cell_type": "code",
   "execution_count": 108,
   "id": "b50ccfca",
   "metadata": {},
   "outputs": [
    {
     "name": "stdout",
     "output_type": "stream",
     "text": [
      "0\n",
      "1\n",
      "1\n",
      "2\n",
      "3\n",
      "5\n",
      "8\n",
      "13\n",
      "21\n"
     ]
    }
   ],
   "source": [
    "#fibonacci series : 0 1 1 2 3 5 8 13 \n",
    "a=0\n",
    "print(a)\n",
    "b=1\n",
    "print(b)\n",
    "for i in range (2,9):\n",
    "    c=a+b\n",
    "    print(c)\n",
    "    a=b\n",
    "    b=c"
   ]
  },
  {
   "cell_type": "code",
   "execution_count": 118,
   "id": "e9297bdf",
   "metadata": {},
   "outputs": [],
   "source": [
    "def fib(n,a=0,b=1,cou=0):\n",
    "    if cou==0:\n",
    "        print(0)\n",
    "        print(1)\n",
    "        cou+=2\n",
    "    if cou<n:\n",
    "        c=a+b\n",
    "        print(c)\n",
    "        cou+=1\n",
    "        return fib(n,b,c,cou)"
   ]
  },
  {
   "cell_type": "code",
   "execution_count": 119,
   "id": "7b223a60",
   "metadata": {},
   "outputs": [
    {
     "name": "stdout",
     "output_type": "stream",
     "text": [
      "0\n",
      "1\n",
      "1\n",
      "2\n",
      "3\n",
      "5\n",
      "8\n",
      "13\n",
      "21\n"
     ]
    }
   ],
   "source": [
    "fib(9)"
   ]
  },
  {
   "cell_type": "code",
   "execution_count": 120,
   "id": "00c2292d",
   "metadata": {},
   "outputs": [],
   "source": [
    "#class is a collection of corelated function\n",
    "# --> used to store function in acorlated and structured format to increase their reusability.\n",
    "#class class_name:\n",
    "#    body functions\n",
    "# init :- function that initiates when we crete or call class"
   ]
  },
  {
   "cell_type": "code",
   "execution_count": 121,
   "id": "b8625fb0",
   "metadata": {},
   "outputs": [],
   "source": [
    "#syntax:\n",
    "#class calc:\n",
    "#   def__init__(self,a,b):\n",
    "#       print(\"recieved,a,b\")\n",
    "#self ---> first arguement pass in instructor"
   ]
  },
  {
   "cell_type": "code",
   "execution_count": 139,
   "id": "30d912db",
   "metadata": {},
   "outputs": [],
   "source": [
    "class calc():\n",
    "    def __init__(self,t,u):\n",
    "        self.t = t     #global\n",
    "        self.u = u     #global\n",
    "        print(\"recieved\",t,',',u)\n",
    "    def sum(self):\n",
    "        print(self.t+self.u)\n",
    "    def sub(self):\n",
    "        print(self.t-self.u)\n",
    "    def mul(self):\n",
    "        print(self.t*self.u)\n",
    "    def div(self):\n",
    "        print(self.u/self.t)"
   ]
  },
  {
   "cell_type": "code",
   "execution_count": 140,
   "id": "6b309cd2",
   "metadata": {},
   "outputs": [
    {
     "name": "stdout",
     "output_type": "stream",
     "text": [
      "recieved 4 , 8\n"
     ]
    }
   ],
   "source": [
    "f= calc(4,8)    #object to call class and function"
   ]
  },
  {
   "cell_type": "code",
   "execution_count": 141,
   "id": "48491bbd",
   "metadata": {},
   "outputs": [
    {
     "name": "stdout",
     "output_type": "stream",
     "text": [
      "12\n"
     ]
    }
   ],
   "source": [
    "f.sum()"
   ]
  },
  {
   "cell_type": "code",
   "execution_count": 142,
   "id": "2a76a14a",
   "metadata": {},
   "outputs": [
    {
     "name": "stdout",
     "output_type": "stream",
     "text": [
      "-4\n"
     ]
    }
   ],
   "source": [
    "#sub, mul,div,\n",
    "f.sub()"
   ]
  },
  {
   "cell_type": "code",
   "execution_count": 143,
   "id": "8c0777d2",
   "metadata": {},
   "outputs": [
    {
     "name": "stdout",
     "output_type": "stream",
     "text": [
      "32\n"
     ]
    }
   ],
   "source": [
    "f.mul()"
   ]
  },
  {
   "cell_type": "code",
   "execution_count": 144,
   "id": "24fe7d18",
   "metadata": {},
   "outputs": [
    {
     "name": "stdout",
     "output_type": "stream",
     "text": [
      "2.0\n"
     ]
    }
   ],
   "source": [
    "f.div()"
   ]
  },
  {
   "cell_type": "code",
   "execution_count": 1,
   "id": "f7b8bbcd",
   "metadata": {},
   "outputs": [],
   "source": [
    "#MODULES:- EXTERNAL SOURCE OF CODE JO APNE CODE MEIN USE KR SKE"
   ]
  },
  {
   "cell_type": "code",
   "execution_count": 9,
   "id": "6a1e964c",
   "metadata": {},
   "outputs": [
    {
     "name": "stdout",
     "output_type": "stream",
     "text": [
      "Requirement already satisfied: import-ipynb in c:\\users\\divya\\anaconda3\\lib\\site-packages (0.1.4)\n",
      "Requirement already satisfied: nbformat in c:\\users\\divya\\anaconda3\\lib\\site-packages (from import-ipynb) (5.5.0)\n",
      "Requirement already satisfied: IPython in c:\\users\\divya\\anaconda3\\lib\\site-packages (from import-ipynb) (7.31.1)\n",
      "Requirement already satisfied: traitlets>=4.2 in c:\\users\\divya\\anaconda3\\lib\\site-packages (from IPython->import-ipynb) (5.1.1)\n",
      "Requirement already satisfied: jedi>=0.16 in c:\\users\\divya\\anaconda3\\lib\\site-packages (from IPython->import-ipynb) (0.18.1)\n",
      "Requirement already satisfied: prompt-toolkit!=3.0.0,!=3.0.1,<3.1.0,>=2.0.0 in c:\\users\\divya\\anaconda3\\lib\\site-packages (from IPython->import-ipynb) (3.0.20)\n",
      "Requirement already satisfied: matplotlib-inline in c:\\users\\divya\\anaconda3\\lib\\site-packages (from IPython->import-ipynb) (0.1.6)\n",
      "Requirement already satisfied: decorator in c:\\users\\divya\\anaconda3\\lib\\site-packages (from IPython->import-ipynb) (5.1.1)\n",
      "Requirement already satisfied: pickleshare in c:\\users\\divya\\anaconda3\\lib\\site-packages (from IPython->import-ipynb) (0.7.5)\n",
      "Requirement already satisfied: setuptools>=18.5 in c:\\users\\divya\\anaconda3\\lib\\site-packages (from IPython->import-ipynb) (63.4.1)\n",
      "Requirement already satisfied: pygments in c:\\users\\divya\\anaconda3\\lib\\site-packages (from IPython->import-ipynb) (2.11.2)\n",
      "Requirement already satisfied: colorama in c:\\users\\divya\\anaconda3\\lib\\site-packages (from IPython->import-ipynb) (0.4.5)\n",
      "Requirement already satisfied: backcall in c:\\users\\divya\\anaconda3\\lib\\site-packages (from IPython->import-ipynb) (0.2.0)\n",
      "Requirement already satisfied: jupyter_core in c:\\users\\divya\\anaconda3\\lib\\site-packages (from nbformat->import-ipynb) (4.11.1)\n",
      "Requirement already satisfied: fastjsonschema in c:\\users\\divya\\anaconda3\\lib\\site-packages (from nbformat->import-ipynb) (2.16.2)\n",
      "Requirement already satisfied: jsonschema>=2.6 in c:\\users\\divya\\anaconda3\\lib\\site-packages (from nbformat->import-ipynb) (4.16.0)\n",
      "Requirement already satisfied: parso<0.9.0,>=0.8.0 in c:\\users\\divya\\anaconda3\\lib\\site-packages (from jedi>=0.16->IPython->import-ipynb) (0.8.3)\n",
      "Requirement already satisfied: attrs>=17.4.0 in c:\\users\\divya\\anaconda3\\lib\\site-packages (from jsonschema>=2.6->nbformat->import-ipynb) (21.4.0)\n",
      "Requirement already satisfied: pyrsistent!=0.17.0,!=0.17.1,!=0.17.2,>=0.14.0 in c:\\users\\divya\\anaconda3\\lib\\site-packages (from jsonschema>=2.6->nbformat->import-ipynb) (0.18.0)\n",
      "Requirement already satisfied: wcwidth in c:\\users\\divya\\anaconda3\\lib\\site-packages (from prompt-toolkit!=3.0.0,!=3.0.1,<3.1.0,>=2.0.0->IPython->import-ipynb) (0.2.5)\n",
      "Requirement already satisfied: pywin32>=1.0 in c:\\users\\divya\\anaconda3\\lib\\site-packages (from jupyter_core->nbformat->import-ipynb) (302)\n"
     ]
    }
   ],
   "source": [
    "! pip install import-ipynb"
   ]
  },
  {
   "cell_type": "code",
   "execution_count": 20,
   "id": "29cf0e9a",
   "metadata": {},
   "outputs": [
    {
     "name": "stdout",
     "output_type": "stream",
     "text": [
      "importing Jupyter notebook from module_trial.ipynb\n"
     ]
    }
   ],
   "source": [
    "import import_ipynb\n",
    "import module_trial"
   ]
  },
  {
   "cell_type": "code",
   "execution_count": 45,
   "id": "6271853f",
   "metadata": {},
   "outputs": [
    {
     "name": "stdout",
     "output_type": "stream",
     "text": [
      "6\n"
     ]
    }
   ],
   "source": [
    "l =[1,3,2,34,59876,3]\n",
    "module_trial.le(l)"
   ]
  },
  {
   "cell_type": "code",
   "execution_count": 53,
   "id": "00757454",
   "metadata": {},
   "outputs": [
    {
     "name": "stdout",
     "output_type": "stream",
     "text": [
      "hello world\n",
      "10\n"
     ]
    }
   ],
   "source": [
    "#q8\n",
    "x=input()\n",
    "b=0\n",
    "i=0\n",
    "while i<len(x):\n",
    "    if x[i]!=' ':\n",
    "        b=b+1\n",
    "    i=i+1\n",
    "        \n",
    "print(b)"
   ]
  },
  {
   "cell_type": "code",
   "execution_count": 54,
   "id": "f5a67efb",
   "metadata": {},
   "outputs": [
    {
     "name": "stdout",
     "output_type": "stream",
     "text": [
      "Hello Am I i\n",
      "e\n",
      "o\n",
      "A\n",
      "I\n",
      "i\n"
     ]
    }
   ],
   "source": [
    "#q9\n",
    "x=input()\n",
    "i=0\n",
    "while i<len(x):\n",
    "    if x[i]=='a' or x[i]=='e' or x[i]=='i' or x[i]=='o' or x[i]=='u' or x[i]=='A' or x[i]=='E' or x[i]=='I' or x[i]=='O' or x[i]=='U':\n",
    "        print(x[i])\n",
    "    i=i+1\n",
    "        "
   ]
  },
  {
   "cell_type": "code",
   "execution_count": 60,
   "id": "c6f0e2f7",
   "metadata": {},
   "outputs": [
    {
     "name": "stdout",
     "output_type": "stream",
     "text": [
      "AnurAg AA\n"
     ]
    }
   ],
   "source": [
    "#Q10\n",
    "w=\"anurag aa\"\n",
    "x='a'\n",
    "y='A'\n",
    "z=\"\"\n",
    "for i in w:\n",
    "    if i==x:\n",
    "        z+=y\n",
    "    else:\n",
    "        z+=i\n",
    "print(z)    "
   ]
  },
  {
   "cell_type": "code",
   "execution_count": 61,
   "id": "11e132c2",
   "metadata": {},
   "outputs": [
    {
     "name": "stdout",
     "output_type": "stream",
     "text": [
      "['hello', 'four', 'bhai', 'how', 'are', 'you']\n"
     ]
    }
   ],
   "source": [
    "#11\n",
    "h='hello four bhai how are you'\n",
    "j=h.split(' ')\n",
    "print(j)"
   ]
  },
  {
   "cell_type": "code",
   "execution_count": 62,
   "id": "9c4ebd8d",
   "metadata": {},
   "outputs": [
    {
     "name": "stdout",
     "output_type": "stream",
     "text": [
      "hello\n",
      "how\n",
      "are\n",
      "you\n"
     ]
    }
   ],
   "source": [
    "i=0\n",
    "while i < len(j):\n",
    "    if len(j[i])%2!=0:\n",
    "        print(j[i])\n",
    "    i=i+1"
   ]
  },
  {
   "cell_type": "code",
   "execution_count": 68,
   "id": "2d43c868",
   "metadata": {},
   "outputs": [
    {
     "name": "stdout",
     "output_type": "stream",
     "text": [
      "['h', ' ', 'f', ' ', 'b', 'h', 'i', ' ', 'h', 'w', ' ', ' ', 'y']\n"
     ]
    }
   ],
   "source": [
    "#11\n",
    "h='hello four bhai how are you'\n",
    "x=list(h)\n",
    "z=[]\n",
    "for i in x:\n",
    "    if x.count(i)%2!=0:\n",
    "        z.append(i)\n",
    "print(z)"
   ]
  },
  {
   "cell_type": "code",
   "execution_count": 69,
   "id": "70f56f44",
   "metadata": {},
   "outputs": [
    {
     "name": "stdout",
     "output_type": "stream",
     "text": [
      "anurg at\n"
     ]
    }
   ],
   "source": [
    "#15\n",
    "#Q10\n",
    "w=\"anureg eat\"\n",
    "x='e'\n",
    "z=\"\"\n",
    "for i in w:\n",
    "    if i!=x:\n",
    "        z+=i\n",
    "print(z)  \n"
   ]
  },
  {
   "cell_type": "code",
   "execution_count": null,
   "id": "2973efc3",
   "metadata": {},
   "outputs": [],
   "source": [
    "#q14\n",
    "w=\"anurAg Eat CAT\"\n",
    "u=0\n",
    "l=0\n",
    "for i in w:\n",
    "    if i"
   ]
  }
 ],
 "metadata": {
  "kernelspec": {
   "display_name": "Python 3 (ipykernel)",
   "language": "python",
   "name": "python3"
  },
  "language_info": {
   "codemirror_mode": {
    "name": "ipython",
    "version": 3
   },
   "file_extension": ".py",
   "mimetype": "text/x-python",
   "name": "python",
   "nbconvert_exporter": "python",
   "pygments_lexer": "ipython3",
   "version": "3.9.13"
  }
 },
 "nbformat": 4,
 "nbformat_minor": 5
}
