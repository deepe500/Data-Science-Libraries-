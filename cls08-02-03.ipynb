{
 "cells": [
  {
   "cell_type": "code",
   "execution_count": 1,
   "id": "7b038daa",
   "metadata": {},
   "outputs": [],
   "source": [
    "#we use function to use same piece of code at different times by calling it\n",
    "# indentation is 4 space which helps in subdivision between a loop and function\n",
    "# return throws output of a value and end the previous function"
   ]
  },
  {
   "cell_type": "code",
   "execution_count": 3,
   "id": "1e014de9",
   "metadata": {},
   "outputs": [
    {
     "name": "stdout",
     "output_type": "stream",
     "text": [
      "1\n"
     ]
    },
    {
     "data": {
      "text/plain": [
       "(3, 20, 2)"
      ]
     },
     "execution_count": 3,
     "metadata": {},
     "output_type": "execute_result"
    }
   ],
   "source": [
    "def f1(a,b,c):\n",
    "    if(a<b):\n",
    "        print(a)\n",
    "        return(a+c,b,c)\n",
    "f1 (1,20,2)\n",
    "# ans is in tupple---() bec return gives ans in 1line"
   ]
  },
  {
   "cell_type": "code",
   "execution_count": 4,
   "id": "b6495c58",
   "metadata": {},
   "outputs": [
    {
     "name": "stdout",
     "output_type": "stream",
     "text": [
      "1\n",
      "3\n",
      "5\n",
      "7\n",
      "9\n",
      "11\n",
      "13\n",
      "15\n",
      "17\n",
      "19\n"
     ]
    }
   ],
   "source": [
    "def f1(a,b,c):\n",
    "    if(a<b):\n",
    "        print(a)\n",
    "        return f1(a+c,b,c)\n",
    "f1 (1,20,2)                                # recurrsion "
   ]
  },
  {
   "cell_type": "code",
   "execution_count": 8,
   "id": "65b4db7e",
   "metadata": {},
   "outputs": [
    {
     "name": "stdout",
     "output_type": "stream",
     "text": [
      "0\n",
      "1\n",
      "1\n",
      "2\n",
      "3\n",
      "5\n",
      "8\n",
      "13\n",
      "21\n",
      "34\n"
     ]
    }
   ],
   "source": [
    "def fib(n,a=0,b=1,cou=0):\n",
    "    if cou==0:\n",
    "        print(0)\n",
    "        print(1)\n",
    "        cou+=2\n",
    "    if cou<n:\n",
    "        c=a+b\n",
    "        print(c)\n",
    "        cou+=1\n",
    "        return fib(n,b,c,cou)\n",
    "fib(10)"
   ]
  },
  {
   "cell_type": "code",
   "execution_count": 14,
   "id": "cc5f32ab",
   "metadata": {},
   "outputs": [],
   "source": [
    "class cls1:\n",
    "    def __init__(self,a,b): #here a and b are local var\n",
    "        self.a=a   #we make local var into global var\n",
    "        self.b=b    #self same cls prop can be used\n",
    "    def sum(self):     \n",
    "        print(self.a+self.b)"
   ]
  },
  {
   "cell_type": "code",
   "execution_count": 15,
   "id": "badc0b4c",
   "metadata": {},
   "outputs": [],
   "source": [
    "d= cls1(4,7)    # --- object:---- now d has fixed values as 4,7"
   ]
  },
  {
   "cell_type": "code",
   "execution_count": 16,
   "id": "80bc86e9",
   "metadata": {},
   "outputs": [],
   "source": [
    "d2=cls1(5,9)      # --- object:---- now d has fixed values as 5,9"
   ]
  },
  {
   "cell_type": "code",
   "execution_count": 17,
   "id": "6fcb172a",
   "metadata": {},
   "outputs": [
    {
     "name": "stdout",
     "output_type": "stream",
     "text": [
      "11\n"
     ]
    }
   ],
   "source": [
    "d.sum()"
   ]
  },
  {
   "cell_type": "code",
   "execution_count": 18,
   "id": "76db997b",
   "metadata": {},
   "outputs": [
    {
     "name": "stdout",
     "output_type": "stream",
     "text": [
      "14\n"
     ]
    }
   ],
   "source": [
    "d2.sum()"
   ]
  },
  {
   "cell_type": "code",
   "execution_count": 19,
   "id": "9a5ededb",
   "metadata": {},
   "outputs": [],
   "source": [
    "# group by\n",
    "# df.group(by='col_name')['cond'].sum()/count"
   ]
  },
  {
   "cell_type": "code",
   "execution_count": null,
   "id": "dc8c9eb1",
   "metadata": {},
   "outputs": [],
   "source": []
  }
 ],
 "metadata": {
  "kernelspec": {
   "display_name": "Python 3 (ipykernel)",
   "language": "python",
   "name": "python3"
  },
  "language_info": {
   "codemirror_mode": {
    "name": "ipython",
    "version": 3
   },
   "file_extension": ".py",
   "mimetype": "text/x-python",
   "name": "python",
   "nbconvert_exporter": "python",
   "pygments_lexer": "ipython3",
   "version": "3.9.13"
  }
 },
 "nbformat": 4,
 "nbformat_minor": 5
}
