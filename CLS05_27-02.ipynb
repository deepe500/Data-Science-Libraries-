{
 "cells": [
  {
   "cell_type": "code",
   "execution_count": 1,
   "id": "5d77a281",
   "metadata": {},
   "outputs": [],
   "source": [
    "#NUMPY AND PANDAS- packages helps in processing of data\n",
    "#NUMPY:- mathematical and stats operations. works on array and matrix"
   ]
  },
  {
   "cell_type": "code",
   "execution_count": 2,
   "id": "3dd1c5a4",
   "metadata": {},
   "outputs": [],
   "source": [
    "import numpy as np"
   ]
  },
  {
   "cell_type": "code",
   "execution_count": 4,
   "id": "538ad4ea",
   "metadata": {},
   "outputs": [],
   "source": [
    "# basic array creation methods:\n",
    "# 1 all elements are 1"
   ]
  },
  {
   "cell_type": "code",
   "execution_count": 5,
   "id": "52409923",
   "metadata": {},
   "outputs": [
    {
     "data": {
      "text/plain": [
       "array([1., 1., 1., 1., 1., 1., 1., 1.])"
      ]
     },
     "execution_count": 5,
     "metadata": {},
     "output_type": "execute_result"
    }
   ],
   "source": [
    "# np.ones(no. of elements)\n",
    "np.ones(8)"
   ]
  },
  {
   "cell_type": "code",
   "execution_count": 6,
   "id": "e86702e8",
   "metadata": {},
   "outputs": [],
   "source": [
    "g=np.ones(8)"
   ]
  },
  {
   "cell_type": "code",
   "execution_count": 8,
   "id": "358b3192",
   "metadata": {},
   "outputs": [
    {
     "data": {
      "text/plain": [
       "dtype('float64')"
      ]
     },
     "execution_count": 8,
     "metadata": {},
     "output_type": "execute_result"
    }
   ],
   "source": [
    "g.dtype\n"
   ]
  },
  {
   "cell_type": "code",
   "execution_count": 10,
   "id": "548439a0",
   "metadata": {},
   "outputs": [
    {
     "data": {
      "text/plain": [
       "array([1., 1., 1., 1., 1., 1., 1., 1., 1., 1., 1., 1.])"
      ]
     },
     "execution_count": 10,
     "metadata": {},
     "output_type": "execute_result"
    }
   ],
   "source": [
    "np.ones(12)"
   ]
  },
  {
   "cell_type": "code",
   "execution_count": 11,
   "id": "51792ce0",
   "metadata": {},
   "outputs": [],
   "source": [
    "# 2 all elements 0"
   ]
  },
  {
   "cell_type": "code",
   "execution_count": 13,
   "id": "b01d2e45",
   "metadata": {},
   "outputs": [
    {
     "data": {
      "text/plain": [
       "array([0., 0., 0., 0., 0., 0., 0., 0., 0.])"
      ]
     },
     "execution_count": 13,
     "metadata": {},
     "output_type": "execute_result"
    }
   ],
   "source": [
    "np.zeros(9)"
   ]
  },
  {
   "cell_type": "code",
   "execution_count": 14,
   "id": "386acdfc",
   "metadata": {},
   "outputs": [
    {
     "data": {
      "text/plain": [
       "array([0, 0, 0, 0, 0, 0, 0, 0, 0])"
      ]
     },
     "execution_count": 14,
     "metadata": {},
     "output_type": "execute_result"
    }
   ],
   "source": [
    "np.zeros(9,dtype = int)"
   ]
  },
  {
   "cell_type": "code",
   "execution_count": 16,
   "id": "9325ef20",
   "metadata": {},
   "outputs": [
    {
     "data": {
      "text/plain": [
       "array([0, 0, 0, 0, 0, 0, 0, 0, 0])"
      ]
     },
     "execution_count": 16,
     "metadata": {},
     "output_type": "execute_result"
    }
   ],
   "source": [
    "h=np.zeros(9,dtype = int)\n",
    "h"
   ]
  },
  {
   "cell_type": "code",
   "execution_count": 17,
   "id": "68fb2eed",
   "metadata": {},
   "outputs": [
    {
     "data": {
      "text/plain": [
       "array([[1., 0., 0., 0., 0., 0.],\n",
       "       [0., 1., 0., 0., 0., 0.],\n",
       "       [0., 0., 1., 0., 0., 0.],\n",
       "       [0., 0., 0., 1., 0., 0.],\n",
       "       [0., 0., 0., 0., 1., 0.],\n",
       "       [0., 0., 0., 0., 0., 1.]])"
      ]
     },
     "execution_count": 17,
     "metadata": {},
     "output_type": "execute_result"
    }
   ],
   "source": [
    "#identity matrix\n",
    "np.eye(6)"
   ]
  },
  {
   "cell_type": "code",
   "execution_count": 18,
   "id": "ab93cad9",
   "metadata": {},
   "outputs": [],
   "source": [
    "s=np.eye(6)"
   ]
  },
  {
   "cell_type": "code",
   "execution_count": 19,
   "id": "2d4587a0",
   "metadata": {},
   "outputs": [
    {
     "data": {
      "text/plain": [
       "2"
      ]
     },
     "execution_count": 19,
     "metadata": {},
     "output_type": "execute_result"
    }
   ],
   "source": [
    "#to get no. of dimensions\n",
    "s.ndim"
   ]
  },
  {
   "cell_type": "code",
   "execution_count": 21,
   "id": "a6bb4f6a",
   "metadata": {},
   "outputs": [
    {
     "data": {
      "text/plain": [
       "1"
      ]
     },
     "execution_count": 21,
     "metadata": {},
     "output_type": "execute_result"
    }
   ],
   "source": [
    "g.ndim"
   ]
  },
  {
   "cell_type": "code",
   "execution_count": 22,
   "id": "2a04d1a9",
   "metadata": {},
   "outputs": [],
   "source": [
    "h=np.array([1,6,9,34,7,\"kite\",34.65])"
   ]
  },
  {
   "cell_type": "code",
   "execution_count": 23,
   "id": "49150a52",
   "metadata": {},
   "outputs": [
    {
     "data": {
      "text/plain": [
       "array(['1', '6', '9', '34', '7', 'kite', '34.65'], dtype='<U32')"
      ]
     },
     "execution_count": 23,
     "metadata": {},
     "output_type": "execute_result"
    }
   ],
   "source": [
    "h"
   ]
  },
  {
   "cell_type": "code",
   "execution_count": 24,
   "id": "76b8becf",
   "metadata": {},
   "outputs": [
    {
     "data": {
      "text/plain": [
       "1"
      ]
     },
     "execution_count": 24,
     "metadata": {},
     "output_type": "execute_result"
    }
   ],
   "source": [
    "h.ndim"
   ]
  },
  {
   "cell_type": "code",
   "execution_count": 29,
   "id": "33f94d9d",
   "metadata": {},
   "outputs": [],
   "source": [
    "l=np.array([['light','electricity'],['led','battery']])"
   ]
  },
  {
   "cell_type": "code",
   "execution_count": 30,
   "id": "96a4db05",
   "metadata": {},
   "outputs": [
    {
     "data": {
      "text/plain": [
       "array([['light', 'electricity'],\n",
       "       ['led', 'battery']], dtype='<U11')"
      ]
     },
     "execution_count": 30,
     "metadata": {},
     "output_type": "execute_result"
    }
   ],
   "source": [
    "l"
   ]
  },
  {
   "cell_type": "code",
   "execution_count": 31,
   "id": "1b453533",
   "metadata": {},
   "outputs": [
    {
     "data": {
      "text/plain": [
       "2"
      ]
     },
     "execution_count": 31,
     "metadata": {},
     "output_type": "execute_result"
    }
   ],
   "source": [
    "l.ndim"
   ]
  },
  {
   "cell_type": "code",
   "execution_count": 32,
   "id": "44ccb3ee",
   "metadata": {},
   "outputs": [
    {
     "data": {
      "text/plain": [
       "dtype('<U11')"
      ]
     },
     "execution_count": 32,
     "metadata": {},
     "output_type": "execute_result"
    }
   ],
   "source": [
    "l.dtype\n"
   ]
  },
  {
   "cell_type": "code",
   "execution_count": 38,
   "id": "711fd90c",
   "metadata": {},
   "outputs": [
    {
     "data": {
      "text/plain": [
       "'light'"
      ]
     },
     "execution_count": 38,
     "metadata": {},
     "output_type": "execute_result"
    }
   ],
   "source": [
    "#acess a single value\n",
    "l[0][0]"
   ]
  },
  {
   "cell_type": "code",
   "execution_count": 40,
   "id": "23cf9cc5",
   "metadata": {},
   "outputs": [
    {
     "data": {
      "text/plain": [
       "'led'"
      ]
     },
     "execution_count": 40,
     "metadata": {},
     "output_type": "execute_result"
    }
   ],
   "source": [
    "#$ row,cloumn\n",
    "l[1][0]"
   ]
  },
  {
   "cell_type": "code",
   "execution_count": 42,
   "id": "33898162",
   "metadata": {},
   "outputs": [
    {
     "data": {
      "text/plain": [
       "'battery'"
      ]
     },
     "execution_count": 42,
     "metadata": {},
     "output_type": "execute_result"
    }
   ],
   "source": [
    "l[1,1]"
   ]
  },
  {
   "cell_type": "code",
   "execution_count": 43,
   "id": "960c5e35",
   "metadata": {},
   "outputs": [
    {
     "data": {
      "text/plain": [
       "array([[1., 0., 0., 0., 0., 0.],\n",
       "       [0., 1., 0., 0., 0., 0.],\n",
       "       [0., 0., 1., 0., 0., 0.],\n",
       "       [0., 0., 0., 1., 0., 0.],\n",
       "       [0., 0., 0., 0., 1., 0.],\n",
       "       [0., 0., 0., 0., 0., 1.]])"
      ]
     },
     "execution_count": 43,
     "metadata": {},
     "output_type": "execute_result"
    }
   ],
   "source": [
    "s"
   ]
  },
  {
   "cell_type": "code",
   "execution_count": 44,
   "id": "a69aa178",
   "metadata": {},
   "outputs": [],
   "source": [
    "# size of matrix gives total number of elements\n",
    "# shape tells number of rows and columns\n"
   ]
  },
  {
   "cell_type": "code",
   "execution_count": 45,
   "id": "f622680a",
   "metadata": {},
   "outputs": [
    {
     "data": {
      "text/plain": [
       "36"
      ]
     },
     "execution_count": 45,
     "metadata": {},
     "output_type": "execute_result"
    }
   ],
   "source": [
    "s.size"
   ]
  },
  {
   "cell_type": "code",
   "execution_count": 46,
   "id": "df9eef5f",
   "metadata": {},
   "outputs": [
    {
     "data": {
      "text/plain": [
       "(6, 6)"
      ]
     },
     "execution_count": 46,
     "metadata": {},
     "output_type": "execute_result"
    }
   ],
   "source": [
    "s.shape"
   ]
  },
  {
   "cell_type": "code",
   "execution_count": 47,
   "id": "4f12c372",
   "metadata": {},
   "outputs": [],
   "source": [
    "# arange:- create an array for the decided range"
   ]
  },
  {
   "cell_type": "code",
   "execution_count": 202,
   "id": "9772b4ae",
   "metadata": {},
   "outputs": [],
   "source": [
    "ar=np.arange(1,21,2)\n",
    "#(start, end,step)"
   ]
  },
  {
   "cell_type": "code",
   "execution_count": 49,
   "id": "a4f4dbaa",
   "metadata": {},
   "outputs": [
    {
     "data": {
      "text/plain": [
       "array([ 1,  3,  5,  7,  9, 11, 13, 15, 17, 19])"
      ]
     },
     "execution_count": 49,
     "metadata": {},
     "output_type": "execute_result"
    }
   ],
   "source": [
    "ar"
   ]
  },
  {
   "cell_type": "code",
   "execution_count": 50,
   "id": "22390c90",
   "metadata": {},
   "outputs": [
    {
     "data": {
      "text/plain": [
       "10"
      ]
     },
     "execution_count": 50,
     "metadata": {},
     "output_type": "execute_result"
    }
   ],
   "source": [
    "ar.size"
   ]
  },
  {
   "cell_type": "code",
   "execution_count": 51,
   "id": "1fec2af0",
   "metadata": {},
   "outputs": [
    {
     "data": {
      "text/plain": [
       "array([[ 1,  3],\n",
       "       [ 5,  7],\n",
       "       [ 9, 11],\n",
       "       [13, 15],\n",
       "       [17, 19]])"
      ]
     },
     "execution_count": 51,
     "metadata": {},
     "output_type": "execute_result"
    }
   ],
   "source": [
    "ar.reshape(5,2)"
   ]
  },
  {
   "cell_type": "code",
   "execution_count": 52,
   "id": "d654a9f8",
   "metadata": {},
   "outputs": [
    {
     "data": {
      "text/plain": [
       "2"
      ]
     },
     "execution_count": 52,
     "metadata": {},
     "output_type": "execute_result"
    }
   ],
   "source": [
    "ar.reshape(5,2).ndim"
   ]
  },
  {
   "cell_type": "code",
   "execution_count": 73,
   "id": "46c3cc53",
   "metadata": {},
   "outputs": [],
   "source": [
    "#for 3d array\n",
    "f = np.arange(1,24,2)"
   ]
  },
  {
   "cell_type": "code",
   "execution_count": 74,
   "id": "a89fdd90",
   "metadata": {},
   "outputs": [
    {
     "data": {
      "text/plain": [
       "array([ 1,  3,  5,  7,  9, 11, 13, 15, 17, 19, 21, 23])"
      ]
     },
     "execution_count": 74,
     "metadata": {},
     "output_type": "execute_result"
    }
   ],
   "source": [
    "f"
   ]
  },
  {
   "cell_type": "code",
   "execution_count": 81,
   "id": "6d8722c7",
   "metadata": {},
   "outputs": [],
   "source": [
    "#1d array to multidimension array\n",
    "f=f.reshape(3,2,2)"
   ]
  },
  {
   "cell_type": "code",
   "execution_count": 82,
   "id": "25ccbc43",
   "metadata": {},
   "outputs": [
    {
     "data": {
      "text/plain": [
       "array([[[ 1,  3],\n",
       "        [ 5,  7]],\n",
       "\n",
       "       [[ 9, 11],\n",
       "        [13, 15]],\n",
       "\n",
       "       [[17, 19],\n",
       "        [21, 23]]])"
      ]
     },
     "execution_count": 82,
     "metadata": {},
     "output_type": "execute_result"
    }
   ],
   "source": [
    "f"
   ]
  },
  {
   "cell_type": "code",
   "execution_count": 86,
   "id": "411f3fcc",
   "metadata": {},
   "outputs": [],
   "source": [
    "# to give in reshape we give from high dimension to low dimension\n",
    "# col:- 1d\n",
    "# row:- 2d\n",
    "# height:= 3d"
   ]
  },
  {
   "cell_type": "code",
   "execution_count": 87,
   "id": "803885b6",
   "metadata": {},
   "outputs": [],
   "source": [
    "# single array----> 1,11,9,19,23"
   ]
  },
  {
   "cell_type": "code",
   "execution_count": 88,
   "id": "4f64ff4c",
   "metadata": {},
   "outputs": [
    {
     "data": {
      "text/plain": [
       "array([23, 15])"
      ]
     },
     "execution_count": 88,
     "metadata": {},
     "output_type": "execute_result"
    }
   ],
   "source": [
    "f[[2,1],[1],[1]]"
   ]
  },
  {
   "cell_type": "code",
   "execution_count": 99,
   "id": "2fd9d3d3",
   "metadata": {},
   "outputs": [
    {
     "data": {
      "text/plain": [
       "array([ 1, 11,  9, 19, 23])"
      ]
     },
     "execution_count": 99,
     "metadata": {},
     "output_type": "execute_result"
    }
   ],
   "source": [
    "f[[0,1,1,2,2],[0,0,0,0,1],[0,1,0,1,1]]"
   ]
  },
  {
   "cell_type": "code",
   "execution_count": 100,
   "id": "87770525",
   "metadata": {},
   "outputs": [],
   "source": [
    "#random "
   ]
  },
  {
   "cell_type": "code",
   "execution_count": 119,
   "id": "d904ed30",
   "metadata": {},
   "outputs": [],
   "source": [
    "r=np.random.randint(1,20,8)"
   ]
  },
  {
   "cell_type": "code",
   "execution_count": 126,
   "id": "f9208e66",
   "metadata": {},
   "outputs": [
    {
     "data": {
      "text/plain": [
       "array([[18,  6],\n",
       "       [15,  6],\n",
       "       [ 4,  2],\n",
       "       [ 9, 12]])"
      ]
     },
     "execution_count": 126,
     "metadata": {},
     "output_type": "execute_result"
    }
   ],
   "source": [
    "r=r.reshape(4,2)\n",
    "r"
   ]
  },
  {
   "cell_type": "code",
   "execution_count": 127,
   "id": "f0e3cbf1",
   "metadata": {},
   "outputs": [
    {
     "name": "stdout",
     "output_type": "stream",
     "text": [
      "enter a number:- 18\n",
      "col:- 0\n",
      "row:- 0\n"
     ]
    }
   ],
   "source": [
    "# using iterators print index vlaues for number\n",
    "n=int(input(\"enter a number:- \"))\n",
    "for i in range (len(r)):\n",
    "    for j in range (len(r[i])):\n",
    "        if n==r[i,j]:\n",
    "            row=i\n",
    "            col=j\n",
    "            print('col:-',j)\n",
    "            print('row:-',i)"
   ]
  },
  {
   "cell_type": "code",
   "execution_count": 157,
   "id": "7ed45589",
   "metadata": {},
   "outputs": [],
   "source": [
    "tr=np.random.randint(1,20,12)"
   ]
  },
  {
   "cell_type": "code",
   "execution_count": 158,
   "id": "78793884",
   "metadata": {},
   "outputs": [
    {
     "data": {
      "text/plain": [
       "array([[[19,  1, 11],\n",
       "        [ 5,  6,  8]],\n",
       "\n",
       "       [[ 8, 15, 10],\n",
       "        [19, 14,  6]]])"
      ]
     },
     "execution_count": 158,
     "metadata": {},
     "output_type": "execute_result"
    }
   ],
   "source": [
    "tr=tr.reshape(2,2,3)\n",
    "tr"
   ]
  },
  {
   "cell_type": "code",
   "execution_count": 159,
   "id": "cfc546e5",
   "metadata": {},
   "outputs": [
    {
     "name": "stdout",
     "output_type": "stream",
     "text": [
      "enter a number:- 19\n",
      "col:- 0\n",
      "row:- 0\n",
      "height:- 0\n",
      "col:- 0\n",
      "row:- 1\n",
      "height:- 1\n"
     ]
    }
   ],
   "source": [
    "n=int(input(\"enter a number:- \"))\n",
    "for k in range (len(tr)):\n",
    "    for i in range (len(tr[k])):\n",
    "        for j in range (len(tr[i])):\n",
    "            if n==tr[k,i,j]:\n",
    "                row=i\n",
    "                col=j\n",
    "                print('col:-',j)\n",
    "                print('row:-',i)\n",
    "                print('height:-',k)"
   ]
  },
  {
   "cell_type": "code",
   "execution_count": 160,
   "id": "8f4f2adc",
   "metadata": {},
   "outputs": [],
   "source": [
    "# for sum function\n",
    "#np.sum(tr,axis=1,2,3)\n",
    "# to give axis we follow\n",
    "# col:- 1\n",
    "# row:- 2\n",
    "# height:= 3\n"
   ]
  },
  {
   "cell_type": "code",
   "execution_count": 171,
   "id": "959166c6",
   "metadata": {},
   "outputs": [
    {
     "data": {
      "text/plain": [
       "array([[31, 19],\n",
       "       [33, 39]])"
      ]
     },
     "execution_count": 171,
     "metadata": {},
     "output_type": "execute_result"
    }
   ],
   "source": [
    "np.sum(tr,axis=2)"
   ]
  },
  {
   "cell_type": "code",
   "execution_count": 165,
   "id": "3db3e554",
   "metadata": {},
   "outputs": [
    {
     "data": {
      "text/plain": [
       "122"
      ]
     },
     "execution_count": 165,
     "metadata": {},
     "output_type": "execute_result"
    }
   ],
   "source": [
    "np.sum(tr)"
   ]
  },
  {
   "cell_type": "code",
   "execution_count": 166,
   "id": "fd57ab90",
   "metadata": {},
   "outputs": [
    {
     "data": {
      "text/plain": [
       "array([[19, 15, 11],\n",
       "       [19, 14,  8]])"
      ]
     },
     "execution_count": 166,
     "metadata": {},
     "output_type": "execute_result"
    }
   ],
   "source": [
    "np.max(tr,axis=0)"
   ]
  },
  {
   "cell_type": "code",
   "execution_count": 170,
   "id": "9aac8f3f",
   "metadata": {},
   "outputs": [],
   "source": [
    "#wap to print avg using loop"
   ]
  },
  {
   "cell_type": "code",
   "execution_count": 173,
   "id": "f16eebf2",
   "metadata": {},
   "outputs": [
    {
     "name": "stdout",
     "output_type": "stream",
     "text": [
      "avg =  10.875\n"
     ]
    }
   ],
   "source": [
    "s=0\n",
    "c=0\n",
    "for k in range (len(tr)):\n",
    "    for i in range (len(tr[k])):\n",
    "        for j in range (len(tr[i])):\n",
    "            c=c+1\n",
    "            s=s+tr[k][j][i]\n",
    "print('avg = ',s/c)\n",
    "                "
   ]
  },
  {
   "cell_type": "code",
   "execution_count": 183,
   "id": "ee5efc1d",
   "metadata": {},
   "outputs": [
    {
     "data": {
      "text/plain": [
       "array([[27, 16, 21],\n",
       "       [24, 20, 14]])"
      ]
     },
     "execution_count": 183,
     "metadata": {},
     "output_type": "execute_result"
    }
   ],
   "source": [
    "j=np.sum(tr,axis=0)\n",
    "j"
   ]
  },
  {
   "cell_type": "code",
   "execution_count": 184,
   "id": "7bcdce9b",
   "metadata": {},
   "outputs": [
    {
     "data": {
      "text/plain": [
       "array([648, 320, 294])"
      ]
     },
     "execution_count": 184,
     "metadata": {},
     "output_type": "execute_result"
    }
   ],
   "source": [
    "p=1\n",
    "for i in j:\n",
    "    p*=i\n",
    "p\n",
    "    "
   ]
  },
  {
   "cell_type": "code",
   "execution_count": 185,
   "id": "60ce707c",
   "metadata": {},
   "outputs": [
    {
     "data": {
      "text/plain": [
       "array([[18,  6],\n",
       "       [15,  6],\n",
       "       [ 4,  2],\n",
       "       [ 9, 12]])"
      ]
     },
     "execution_count": 185,
     "metadata": {},
     "output_type": "execute_result"
    }
   ],
   "source": [
    "r"
   ]
  },
  {
   "cell_type": "code",
   "execution_count": 187,
   "id": "3bc695a4",
   "metadata": {},
   "outputs": [
    {
     "data": {
      "text/plain": [
       "array([[18, 15,  4,  9],\n",
       "       [ 6,  6,  2, 12]])"
      ]
     },
     "execution_count": 187,
     "metadata": {},
     "output_type": "execute_result"
    }
   ],
   "source": [
    "r.T\n",
    "# FOR TRANSPOSE WE USE\"T\""
   ]
  },
  {
   "cell_type": "code",
   "execution_count": 189,
   "id": "5459f9de",
   "metadata": {},
   "outputs": [
    {
     "data": {
      "text/plain": [
       "array([18,  6, 15,  6,  4,  2,  9, 12])"
      ]
     },
     "execution_count": 189,
     "metadata": {},
     "output_type": "execute_result"
    }
   ],
   "source": [
    "r.flatten()\n",
    "#flatten reduces from 2d to 1d"
   ]
  },
  {
   "cell_type": "code",
   "execution_count": 190,
   "id": "62fb4a15",
   "metadata": {},
   "outputs": [],
   "source": [
    "#product:= \n",
    "# dot prod--> scaler\n",
    "# cross--> vector"
   ]
  },
  {
   "cell_type": "code",
   "execution_count": 192,
   "id": "eeebd801",
   "metadata": {},
   "outputs": [
    {
     "data": {
      "text/plain": [
       "array([[ 1,  2],\n",
       "       [ 3,  4],\n",
       "       [ 5,  6],\n",
       "       [ 7,  8],\n",
       "       [ 9, 10],\n",
       "       [11, 12]])"
      ]
     },
     "execution_count": 192,
     "metadata": {},
     "output_type": "execute_result"
    }
   ],
   "source": [
    "m1 = np.arange(1,13).reshape(6,2)\n",
    "m1"
   ]
  },
  {
   "cell_type": "code",
   "execution_count": 193,
   "id": "a62a680e",
   "metadata": {},
   "outputs": [
    {
     "data": {
      "text/plain": [
       "array([[ 1,  3],\n",
       "       [ 5,  7],\n",
       "       [ 9, 11],\n",
       "       [13, 15],\n",
       "       [17, 19],\n",
       "       [21, 23]])"
      ]
     },
     "execution_count": 193,
     "metadata": {},
     "output_type": "execute_result"
    }
   ],
   "source": [
    "m2 = np.arange(1,25,2).reshape(6,2)\n",
    "m2"
   ]
  },
  {
   "cell_type": "code",
   "execution_count": 194,
   "id": "86522e79",
   "metadata": {},
   "outputs": [
    {
     "data": {
      "text/plain": [
       "array([[  1,   6],\n",
       "       [ 15,  28],\n",
       "       [ 45,  66],\n",
       "       [ 91, 120],\n",
       "       [153, 190],\n",
       "       [231, 276]])"
      ]
     },
     "execution_count": 194,
     "metadata": {},
     "output_type": "execute_result"
    }
   ],
   "source": [
    "#dot product:\n",
    "m1*m2"
   ]
  },
  {
   "cell_type": "code",
   "execution_count": 197,
   "id": "1b77d767",
   "metadata": {},
   "outputs": [
    {
     "name": "stdout",
     "output_type": "stream",
     "text": [
      "5\n",
      "6\n"
     ]
    },
    {
     "data": {
      "text/plain": [
       "array([[1., 0., 0., 0., 0., 0.],\n",
       "       [0., 1., 0., 0., 0., 0.],\n",
       "       [0., 0., 1., 0., 0., 0.],\n",
       "       [0., 0., 0., 1., 0., 0.],\n",
       "       [0., 0., 0., 0., 1., 0.]])"
      ]
     },
     "execution_count": 197,
     "metadata": {},
     "output_type": "execute_result"
    }
   ],
   "source": [
    "r=int(int(input()))\n",
    "c=int(int(input()))\n",
    "np.eye(r,c)"
   ]
  },
  {
   "cell_type": "code",
   "execution_count": 203,
   "id": "c22c7a25",
   "metadata": {},
   "outputs": [],
   "source": [
    "ar=np.arange(1,21,2)"
   ]
  },
  {
   "cell_type": "code",
   "execution_count": 204,
   "id": "627b3acf",
   "metadata": {},
   "outputs": [
    {
     "data": {
      "text/plain": [
       "array([ 1,  3,  5,  7,  9, 11, 13, 15, 17, 19])"
      ]
     },
     "execution_count": 204,
     "metadata": {},
     "output_type": "execute_result"
    }
   ],
   "source": [
    "ar"
   ]
  },
  {
   "cell_type": "code",
   "execution_count": 205,
   "id": "b254c084",
   "metadata": {},
   "outputs": [
    {
     "data": {
      "text/plain": [
       "array([[ 1,  3],\n",
       "       [ 5,  7],\n",
       "       [ 9, 11],\n",
       "       [13, 15],\n",
       "       [17, 19]])"
      ]
     },
     "execution_count": 205,
     "metadata": {},
     "output_type": "execute_result"
    }
   ],
   "source": [
    "ar.reshape(5,2)\n"
   ]
  },
  {
   "cell_type": "code",
   "execution_count": 206,
   "id": "9f20bea5",
   "metadata": {},
   "outputs": [
    {
     "data": {
      "text/plain": [
       "array([ 1,  3,  5,  7,  9, 11, 13, 15, 17, 19])"
      ]
     },
     "execution_count": 206,
     "metadata": {},
     "output_type": "execute_result"
    }
   ],
   "source": [
    "ar.flatten()"
   ]
  },
  {
   "cell_type": "code",
   "execution_count": 207,
   "id": "a3aefb3c",
   "metadata": {},
   "outputs": [
    {
     "data": {
      "text/plain": [
       "19"
      ]
     },
     "execution_count": 207,
     "metadata": {},
     "output_type": "execute_result"
    }
   ],
   "source": [
    "np.max(ar)"
   ]
  },
  {
   "cell_type": "code",
   "execution_count": 208,
   "id": "c889ea1e",
   "metadata": {},
   "outputs": [
    {
     "data": {
      "text/plain": [
       "1"
      ]
     },
     "execution_count": 208,
     "metadata": {},
     "output_type": "execute_result"
    }
   ],
   "source": [
    "np.min(ar)"
   ]
  },
  {
   "cell_type": "code",
   "execution_count": 210,
   "id": "f2391374",
   "metadata": {},
   "outputs": [
    {
     "data": {
      "text/plain": [
       "array([[[ 1,  3],\n",
       "        [ 5,  7]],\n",
       "\n",
       "       [[ 9, 11],\n",
       "        [13, 15]],\n",
       "\n",
       "       [[17, 19],\n",
       "        [21, 23]]])"
      ]
     },
     "execution_count": 210,
     "metadata": {},
     "output_type": "execute_result"
    }
   ],
   "source": [
    "f"
   ]
  },
  {
   "cell_type": "code",
   "execution_count": 211,
   "id": "e634bb55",
   "metadata": {},
   "outputs": [
    {
     "data": {
      "text/plain": [
       "array([[ 1,  5],\n",
       "       [ 9, 13],\n",
       "       [17, 21]])"
      ]
     },
     "execution_count": 211,
     "metadata": {},
     "output_type": "execute_result"
    }
   ],
   "source": [
    "np.min(f,axis=2)"
   ]
  },
  {
   "cell_type": "code",
   "execution_count": 212,
   "id": "7b97b973",
   "metadata": {},
   "outputs": [
    {
     "data": {
      "text/plain": [
       "array([[ 3,  7],\n",
       "       [11, 15],\n",
       "       [19, 23]])"
      ]
     },
     "execution_count": 212,
     "metadata": {},
     "output_type": "execute_result"
    }
   ],
   "source": [
    "np.max(f,axis=2)"
   ]
  },
  {
   "cell_type": "code",
   "execution_count": 213,
   "id": "21dee5fa",
   "metadata": {},
   "outputs": [
    {
     "data": {
      "text/plain": [
       "array([[ 2.,  6.],\n",
       "       [10., 14.],\n",
       "       [18., 22.]])"
      ]
     },
     "execution_count": 213,
     "metadata": {},
     "output_type": "execute_result"
    }
   ],
   "source": [
    "np.mean(f,axis=2)"
   ]
  },
  {
   "cell_type": "code",
   "execution_count": 1,
   "id": "04135b32",
   "metadata": {},
   "outputs": [],
   "source": [
    "##############################################################################################\n",
    "##############################################################################################\n",
    "##############################################################################################\n",
    "# PANDAS:-- TABULAR DATA WITH NAMINGS AND LABELS\n"
   ]
  },
  {
   "cell_type": "code",
   "execution_count": 3,
   "id": "46cb50b8",
   "metadata": {},
   "outputs": [],
   "source": [
    "import pandas as pd"
   ]
  },
  {
   "cell_type": "code",
   "execution_count": 3,
   "id": "e52257af",
   "metadata": {},
   "outputs": [],
   "source": [
    "#series:- labelled 1d array"
   ]
  },
  {
   "cell_type": "code",
   "execution_count": 31,
   "id": "942905f9",
   "metadata": {},
   "outputs": [],
   "source": [
    "a=np.random.randint(1,10,5)"
   ]
  },
  {
   "cell_type": "code",
   "execution_count": 32,
   "id": "83034b91",
   "metadata": {},
   "outputs": [
    {
     "data": {
      "text/plain": [
       "5"
      ]
     },
     "execution_count": 32,
     "metadata": {},
     "output_type": "execute_result"
    }
   ],
   "source": [
    "a.size"
   ]
  },
  {
   "cell_type": "code",
   "execution_count": 33,
   "id": "8a83213c",
   "metadata": {},
   "outputs": [
    {
     "data": {
      "text/plain": [
       "1"
      ]
     },
     "execution_count": 33,
     "metadata": {},
     "output_type": "execute_result"
    }
   ],
   "source": [
    "a.ndim"
   ]
  },
  {
   "cell_type": "code",
   "execution_count": 34,
   "id": "65c649b7",
   "metadata": {},
   "outputs": [
    {
     "data": {
      "text/plain": [
       "0    5\n",
       "1    7\n",
       "2    1\n",
       "3    6\n",
       "4    2\n",
       "dtype: int32"
      ]
     },
     "execution_count": 34,
     "metadata": {},
     "output_type": "execute_result"
    }
   ],
   "source": [
    "pd.Series(a)\n",
    "#Series ---> s caps"
   ]
  },
  {
   "cell_type": "code",
   "execution_count": 35,
   "id": "2af850f7",
   "metadata": {},
   "outputs": [],
   "source": [
    "physics=pd.Series(a,index=['aa','bb','cc','dd','ef'])"
   ]
  },
  {
   "cell_type": "code",
   "execution_count": 36,
   "id": "0ddabc4b",
   "metadata": {},
   "outputs": [
    {
     "data": {
      "text/plain": [
       "array([8, 9, 5, 2, 6])"
      ]
     },
     "execution_count": 36,
     "metadata": {},
     "output_type": "execute_result"
    }
   ],
   "source": [
    "m=np.random.randint(1,10,5)\n",
    "m"
   ]
  },
  {
   "cell_type": "code",
   "execution_count": 37,
   "id": "b6ae57c6",
   "metadata": {},
   "outputs": [],
   "source": [
    "maths=pd.Series(a,index=['aa','bb','cc','dd','ef'])"
   ]
  },
  {
   "cell_type": "code",
   "execution_count": 38,
   "id": "734b6061",
   "metadata": {},
   "outputs": [
    {
     "data": {
      "text/plain": [
       "aa    5\n",
       "bb    7\n",
       "cc    1\n",
       "dd    6\n",
       "ef    2\n",
       "dtype: int32"
      ]
     },
     "execution_count": 38,
     "metadata": {},
     "output_type": "execute_result"
    }
   ],
   "source": [
    "physics"
   ]
  },
  {
   "cell_type": "code",
   "execution_count": 39,
   "id": "d3fc32f3",
   "metadata": {},
   "outputs": [
    {
     "data": {
      "text/plain": [
       "aa    5\n",
       "bb    7\n",
       "cc    1\n",
       "dd    6\n",
       "ef    2\n",
       "dtype: int32"
      ]
     },
     "execution_count": 39,
     "metadata": {},
     "output_type": "execute_result"
    }
   ],
   "source": [
    "maths"
   ]
  },
  {
   "cell_type": "code",
   "execution_count": 40,
   "id": "7e3ac5b2",
   "metadata": {},
   "outputs": [
    {
     "data": {
      "text/plain": [
       "aa    5\n",
       "bb    7\n",
       "cc    1\n",
       "dd    6\n",
       "ef    2\n",
       "aa    5\n",
       "bb    7\n",
       "cc    1\n",
       "dd    6\n",
       "ef    2\n",
       "dtype: int32"
      ]
     },
     "execution_count": 40,
     "metadata": {},
     "output_type": "execute_result"
    }
   ],
   "source": [
    "#to combine 2 series together in a table\n",
    "pd.concat((physics,maths))"
   ]
  },
  {
   "cell_type": "code",
   "execution_count": 41,
   "id": "9d6fb774",
   "metadata": {},
   "outputs": [
    {
     "data": {
      "text/html": [
       "<div>\n",
       "<style scoped>\n",
       "    .dataframe tbody tr th:only-of-type {\n",
       "        vertical-align: middle;\n",
       "    }\n",
       "\n",
       "    .dataframe tbody tr th {\n",
       "        vertical-align: top;\n",
       "    }\n",
       "\n",
       "    .dataframe thead th {\n",
       "        text-align: right;\n",
       "    }\n",
       "</style>\n",
       "<table border=\"1\" class=\"dataframe\">\n",
       "  <thead>\n",
       "    <tr style=\"text-align: right;\">\n",
       "      <th></th>\n",
       "      <th>0</th>\n",
       "      <th>1</th>\n",
       "    </tr>\n",
       "  </thead>\n",
       "  <tbody>\n",
       "    <tr>\n",
       "      <th>aa</th>\n",
       "      <td>5</td>\n",
       "      <td>5</td>\n",
       "    </tr>\n",
       "    <tr>\n",
       "      <th>bb</th>\n",
       "      <td>7</td>\n",
       "      <td>7</td>\n",
       "    </tr>\n",
       "    <tr>\n",
       "      <th>cc</th>\n",
       "      <td>1</td>\n",
       "      <td>1</td>\n",
       "    </tr>\n",
       "    <tr>\n",
       "      <th>dd</th>\n",
       "      <td>6</td>\n",
       "      <td>6</td>\n",
       "    </tr>\n",
       "    <tr>\n",
       "      <th>ef</th>\n",
       "      <td>2</td>\n",
       "      <td>2</td>\n",
       "    </tr>\n",
       "  </tbody>\n",
       "</table>\n",
       "</div>"
      ],
      "text/plain": [
       "    0  1\n",
       "aa  5  5\n",
       "bb  7  7\n",
       "cc  1  1\n",
       "dd  6  6\n",
       "ef  2  2"
      ]
     },
     "execution_count": 41,
     "metadata": {},
     "output_type": "execute_result"
    }
   ],
   "source": [
    "pd.concat((physics,maths),axis=1)"
   ]
  },
  {
   "cell_type": "code",
   "execution_count": 42,
   "id": "82d45081",
   "metadata": {},
   "outputs": [
    {
     "data": {
      "text/html": [
       "<div>\n",
       "<style scoped>\n",
       "    .dataframe tbody tr th:only-of-type {\n",
       "        vertical-align: middle;\n",
       "    }\n",
       "\n",
       "    .dataframe tbody tr th {\n",
       "        vertical-align: top;\n",
       "    }\n",
       "\n",
       "    .dataframe thead th {\n",
       "        text-align: right;\n",
       "    }\n",
       "</style>\n",
       "<table border=\"1\" class=\"dataframe\">\n",
       "  <thead>\n",
       "    <tr style=\"text-align: right;\">\n",
       "      <th></th>\n",
       "      <th>phy</th>\n",
       "      <th>maths</th>\n",
       "    </tr>\n",
       "  </thead>\n",
       "  <tbody>\n",
       "    <tr>\n",
       "      <th>aa</th>\n",
       "      <td>5</td>\n",
       "      <td>5</td>\n",
       "    </tr>\n",
       "    <tr>\n",
       "      <th>bb</th>\n",
       "      <td>7</td>\n",
       "      <td>7</td>\n",
       "    </tr>\n",
       "    <tr>\n",
       "      <th>cc</th>\n",
       "      <td>1</td>\n",
       "      <td>1</td>\n",
       "    </tr>\n",
       "    <tr>\n",
       "      <th>dd</th>\n",
       "      <td>6</td>\n",
       "      <td>6</td>\n",
       "    </tr>\n",
       "    <tr>\n",
       "      <th>ef</th>\n",
       "      <td>2</td>\n",
       "      <td>2</td>\n",
       "    </tr>\n",
       "  </tbody>\n",
       "</table>\n",
       "</div>"
      ],
      "text/plain": [
       "    phy  maths\n",
       "aa    5      5\n",
       "bb    7      7\n",
       "cc    1      1\n",
       "dd    6      6\n",
       "ef    2      2"
      ]
     },
     "execution_count": 42,
     "metadata": {},
     "output_type": "execute_result"
    }
   ],
   "source": [
    "marks=pd.concat((physics,maths),axis=1)\n",
    "marks.columns=['phy','maths']\n",
    "marks"
   ]
  },
  {
   "cell_type": "code",
   "execution_count": 43,
   "id": "cc942082",
   "metadata": {},
   "outputs": [
    {
     "data": {
      "text/plain": [
       "pandas.core.series.Series"
      ]
     },
     "execution_count": 43,
     "metadata": {},
     "output_type": "execute_result"
    }
   ],
   "source": [
    "type(maths)"
   ]
  },
  {
   "cell_type": "code",
   "execution_count": 44,
   "id": "560c1376",
   "metadata": {},
   "outputs": [
    {
     "data": {
      "text/plain": [
       "pandas.core.frame.DataFrame"
      ]
     },
     "execution_count": 44,
     "metadata": {},
     "output_type": "execute_result"
    }
   ],
   "source": [
    "type(marks)"
   ]
  },
  {
   "cell_type": "code",
   "execution_count": 45,
   "id": "9b5f8f79",
   "metadata": {},
   "outputs": [],
   "source": [
    "#data frame:- when we provide labels to 2d entity"
   ]
  },
  {
   "cell_type": "code",
   "execution_count": 47,
   "id": "7c459e8d",
   "metadata": {},
   "outputs": [],
   "source": [
    "# add new row in marks table for student \"GH\" AND \"KI\""
   ]
  },
  {
   "cell_type": "code",
   "execution_count": 1,
   "id": "154a457c",
   "metadata": {},
   "outputs": [
    {
     "ename": "NameError",
     "evalue": "name 'pd' is not defined",
     "output_type": "error",
     "traceback": [
      "\u001b[1;31m---------------------------------------------------------------------------\u001b[0m",
      "\u001b[1;31mNameError\u001b[0m                                 Traceback (most recent call last)",
      "\u001b[1;32m~\\AppData\\Local\\Temp\\ipykernel_27916\\4252392913.py\u001b[0m in \u001b[0;36m<module>\u001b[1;34m\u001b[0m\n\u001b[1;32m----> 1\u001b[1;33m \u001b[0mad\u001b[0m \u001b[1;33m=\u001b[0m \u001b[0mpd\u001b[0m\u001b[1;33m.\u001b[0m\u001b[0mDataFrame\u001b[0m\u001b[1;33m(\u001b[0m\u001b[0ml\u001b[0m\u001b[1;33m,\u001b[0m\u001b[0mindex\u001b[0m \u001b[1;33m=\u001b[0m \u001b[0mn\u001b[0m\u001b[1;33m,\u001b[0m \u001b[0mcolumns\u001b[0m\u001b[1;33m=\u001b[0m\u001b[1;33m[\u001b[0m\u001b[1;34m'phy'\u001b[0m\u001b[1;33m,\u001b[0m\u001b[1;34m'maths'\u001b[0m\u001b[1;33m]\u001b[0m\u001b[1;33m)\u001b[0m\u001b[1;33m\u001b[0m\u001b[1;33m\u001b[0m\u001b[0m\n\u001b[0m",
      "\u001b[1;31mNameError\u001b[0m: name 'pd' is not defined"
     ]
    }
   ],
   "source": [
    "ad = pd.DataFrame(l,index = n, columns=['phy','maths'])"
   ]
  },
  {
   "cell_type": "code",
   "execution_count": 57,
   "id": "a3a1b376",
   "metadata": {},
   "outputs": [],
   "source": [
    "marks=pd.concat((marks,ad))"
   ]
  },
  {
   "cell_type": "code",
   "execution_count": 58,
   "id": "1d71bd1d",
   "metadata": {},
   "outputs": [
    {
     "data": {
      "text/html": [
       "<div>\n",
       "<style scoped>\n",
       "    .dataframe tbody tr th:only-of-type {\n",
       "        vertical-align: middle;\n",
       "    }\n",
       "\n",
       "    .dataframe tbody tr th {\n",
       "        vertical-align: top;\n",
       "    }\n",
       "\n",
       "    .dataframe thead th {\n",
       "        text-align: right;\n",
       "    }\n",
       "</style>\n",
       "<table border=\"1\" class=\"dataframe\">\n",
       "  <thead>\n",
       "    <tr style=\"text-align: right;\">\n",
       "      <th></th>\n",
       "      <th>phy</th>\n",
       "      <th>maths</th>\n",
       "    </tr>\n",
       "  </thead>\n",
       "  <tbody>\n",
       "    <tr>\n",
       "      <th>aa</th>\n",
       "      <td>5</td>\n",
       "      <td>5</td>\n",
       "    </tr>\n",
       "    <tr>\n",
       "      <th>bb</th>\n",
       "      <td>7</td>\n",
       "      <td>7</td>\n",
       "    </tr>\n",
       "    <tr>\n",
       "      <th>cc</th>\n",
       "      <td>1</td>\n",
       "      <td>1</td>\n",
       "    </tr>\n",
       "    <tr>\n",
       "      <th>dd</th>\n",
       "      <td>6</td>\n",
       "      <td>6</td>\n",
       "    </tr>\n",
       "    <tr>\n",
       "      <th>ef</th>\n",
       "      <td>2</td>\n",
       "      <td>2</td>\n",
       "    </tr>\n",
       "    <tr>\n",
       "      <th>gh</th>\n",
       "      <td>8</td>\n",
       "      <td>7</td>\n",
       "    </tr>\n",
       "    <tr>\n",
       "      <th>ki</th>\n",
       "      <td>9</td>\n",
       "      <td>1</td>\n",
       "    </tr>\n",
       "  </tbody>\n",
       "</table>\n",
       "</div>"
      ],
      "text/plain": [
       "   phy maths\n",
       "aa   5     5\n",
       "bb   7     7\n",
       "cc   1     1\n",
       "dd   6     6\n",
       "ef   2     2\n",
       "gh   8     7\n",
       "ki   9     1"
      ]
     },
     "execution_count": 58,
     "metadata": {},
     "output_type": "execute_result"
    }
   ],
   "source": [
    "marks"
   ]
  },
  {
   "cell_type": "code",
   "execution_count": 59,
   "id": "72405713",
   "metadata": {},
   "outputs": [],
   "source": [
    "#indexing based on index numbers: iloc    indexing 0 se start krna h"
   ]
  },
  {
   "cell_type": "code",
   "execution_count": 60,
   "id": "73f11523",
   "metadata": {},
   "outputs": [
    {
     "data": {
      "text/plain": [
       "1"
      ]
     },
     "execution_count": 60,
     "metadata": {},
     "output_type": "execute_result"
    }
   ],
   "source": [
    "#marks.iloc[row,col]\n",
    "marks.iloc[2,1]"
   ]
  },
  {
   "cell_type": "code",
   "execution_count": 64,
   "id": "33fc3611",
   "metadata": {},
   "outputs": [
    {
     "data": {
      "text/plain": [
       "5"
      ]
     },
     "execution_count": 64,
     "metadata": {},
     "output_type": "execute_result"
    }
   ],
   "source": [
    "marks.iloc[0,0]"
   ]
  },
  {
   "cell_type": "code",
   "execution_count": 65,
   "id": "919f87f2",
   "metadata": {},
   "outputs": [
    {
     "data": {
      "text/plain": [
       "'7'"
      ]
     },
     "execution_count": 65,
     "metadata": {},
     "output_type": "execute_result"
    }
   ],
   "source": [
    "marks.iloc[5,1]"
   ]
  },
  {
   "cell_type": "code",
   "execution_count": 66,
   "id": "476cecb3",
   "metadata": {},
   "outputs": [
    {
     "data": {
      "text/plain": [
       "6"
      ]
     },
     "execution_count": 66,
     "metadata": {},
     "output_type": "execute_result"
    }
   ],
   "source": [
    "marks.iloc[3,0]"
   ]
  },
  {
   "cell_type": "code",
   "execution_count": 67,
   "id": "c988f19a",
   "metadata": {},
   "outputs": [
    {
     "data": {
      "text/plain": [
       "1"
      ]
     },
     "execution_count": 67,
     "metadata": {},
     "output_type": "execute_result"
    }
   ],
   "source": [
    "marks.iloc[2,1]"
   ]
  },
  {
   "cell_type": "code",
   "execution_count": 68,
   "id": "b5ef6d97",
   "metadata": {},
   "outputs": [
    {
     "data": {
      "text/plain": [
       "7"
      ]
     },
     "execution_count": 68,
     "metadata": {},
     "output_type": "execute_result"
    }
   ],
   "source": [
    "marks.iloc[1,1]"
   ]
  },
  {
   "cell_type": "code",
   "execution_count": 71,
   "id": "4e7f9125",
   "metadata": {},
   "outputs": [],
   "source": [
    "###### indexing based on labels:   loc\n",
    "# marks.loc['row ka naam','col ka naam']"
   ]
  },
  {
   "cell_type": "code",
   "execution_count": 72,
   "id": "b605619f",
   "metadata": {},
   "outputs": [
    {
     "data": {
      "text/plain": [
       "5"
      ]
     },
     "execution_count": 72,
     "metadata": {},
     "output_type": "execute_result"
    }
   ],
   "source": [
    "marks.loc['aa','phy']"
   ]
  },
  {
   "cell_type": "code",
   "execution_count": 76,
   "id": "06d721a3",
   "metadata": {},
   "outputs": [
    {
     "data": {
      "text/plain": [
       "array([[5, 5],\n",
       "       [7, 7],\n",
       "       [1, 1],\n",
       "       [6, 6],\n",
       "       [2, 2],\n",
       "       ['8', '7'],\n",
       "       ['9', '1']], dtype=object)"
      ]
     },
     "execution_count": 76,
     "metadata": {},
     "output_type": "execute_result"
    }
   ],
   "source": [
    "marks.values\n",
    "#matrix ki vlaues ko array mein convert krke array operations use kr skte h"
   ]
  },
  {
   "cell_type": "code",
   "execution_count": 82,
   "id": "4169076c",
   "metadata": {},
   "outputs": [
    {
     "data": {
      "text/html": [
       "<div>\n",
       "<style scoped>\n",
       "    .dataframe tbody tr th:only-of-type {\n",
       "        vertical-align: middle;\n",
       "    }\n",
       "\n",
       "    .dataframe tbody tr th {\n",
       "        vertical-align: top;\n",
       "    }\n",
       "\n",
       "    .dataframe thead th {\n",
       "        text-align: right;\n",
       "    }\n",
       "</style>\n",
       "<table border=\"1\" class=\"dataframe\">\n",
       "  <thead>\n",
       "    <tr style=\"text-align: right;\">\n",
       "      <th></th>\n",
       "      <th>phy</th>\n",
       "      <th>maths</th>\n",
       "    </tr>\n",
       "  </thead>\n",
       "  <tbody>\n",
       "    <tr>\n",
       "      <th>aa</th>\n",
       "      <td>5</td>\n",
       "      <td>5</td>\n",
       "    </tr>\n",
       "    <tr>\n",
       "      <th>bb</th>\n",
       "      <td>7</td>\n",
       "      <td>7</td>\n",
       "    </tr>\n",
       "  </tbody>\n",
       "</table>\n",
       "</div>"
      ],
      "text/plain": [
       "   phy maths\n",
       "aa   5     5\n",
       "bb   7     7"
      ]
     },
     "execution_count": 82,
     "metadata": {},
     "output_type": "execute_result"
    }
   ],
   "source": [
    "marks.loc[['aa','bb'],['phy','maths']]"
   ]
  },
  {
   "cell_type": "code",
   "execution_count": null,
   "id": "1d47ab1a",
   "metadata": {},
   "outputs": [],
   "source": []
  }
 ],
 "metadata": {
  "kernelspec": {
   "display_name": "Python 3 (ipykernel)",
   "language": "python",
   "name": "python3"
  },
  "language_info": {
   "codemirror_mode": {
    "name": "ipython",
    "version": 3
   },
   "file_extension": ".py",
   "mimetype": "text/x-python",
   "name": "python",
   "nbconvert_exporter": "python",
   "pygments_lexer": "ipython3",
   "version": "3.9.13"
  }
 },
 "nbformat": 4,
 "nbformat_minor": 5
}
