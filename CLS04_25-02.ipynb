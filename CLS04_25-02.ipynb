{
 "cells": [
  {
   "cell_type": "code",
   "execution_count": 1,
   "id": "299f2789",
   "metadata": {},
   "outputs": [],
   "source": [
    "#cls\n",
    "class cls1:\n",
    "    def __init__(a,v1,v2):\n",
    "        a.v1=v1   # variable init function nhi class ko belong krte hai\n",
    "        a.v2=v2   # init is a constructor function executed first when called\n",
    "    def sum_ele(v):     \n",
    "        print(v.v1+v.v2)\n",
    "    def sub(a):\n",
    "        print(a.v1-a.v2)"
   ]
  },
  {
   "cell_type": "code",
   "execution_count": 8,
   "id": "5e2b4b16",
   "metadata": {},
   "outputs": [],
   "source": [
    "d= cls1(4,7)"
   ]
  },
  {
   "cell_type": "code",
   "execution_count": 9,
   "id": "31d1d8a9",
   "metadata": {},
   "outputs": [
    {
     "name": "stdout",
     "output_type": "stream",
     "text": [
      "11\n"
     ]
    }
   ],
   "source": [
    "d.sum_ele()"
   ]
  },
  {
   "cell_type": "code",
   "execution_count": 10,
   "id": "e890fb02",
   "metadata": {},
   "outputs": [
    {
     "name": "stdout",
     "output_type": "stream",
     "text": [
      "-3\n"
     ]
    }
   ],
   "source": [
    "d.sub()"
   ]
  },
  {
   "cell_type": "code",
   "execution_count": 11,
   "id": "11cdee7f",
   "metadata": {},
   "outputs": [],
   "source": [
    "#polymorphism:-ability of class to generate multiple object/instances"
   ]
  },
  {
   "cell_type": "code",
   "execution_count": 23,
   "id": "485c3a02",
   "metadata": {},
   "outputs": [],
   "source": [
    "class cls2(cls1):\n",
    "    def __init__(self,r,t):\n",
    "        super().__init__(r,t)    #super() function used to initiate init of parent class\n",
    "    def cl_add(self):            #self:- same cls property ko use krne ke liye\n",
    "        super().sum_ele()"
   ]
  },
  {
   "cell_type": "code",
   "execution_count": 24,
   "id": "e1aa6b4f",
   "metadata": {},
   "outputs": [],
   "source": [
    "obj2= cls2(23,4)"
   ]
  },
  {
   "cell_type": "code",
   "execution_count": 26,
   "id": "a813bec6",
   "metadata": {},
   "outputs": [
    {
     "name": "stdout",
     "output_type": "stream",
     "text": [
      "27\n"
     ]
    }
   ],
   "source": [
    "obj2.cl_add()"
   ]
  },
  {
   "cell_type": "code",
   "execution_count": 31,
   "id": "3fd3d8ea",
   "metadata": {},
   "outputs": [],
   "source": [
    "class cls1:\n",
    "    def __init__(a,v1,v2):\n",
    "        a.v1=v1   \n",
    "        a.v2=v2\n",
    "    def sum_ele(v):\n",
    "        return v.v1+v.v2\n",
    "    def sub(a):\n",
    "        return a.v1-a.v2\n",
    "class cls2(cls1):\n",
    "    def __init__(self,r,t):\n",
    "        super().__init__(r,t)    \n",
    "    def cl_avg(self):            \n",
    "        print(super().sum_ele()/2)     #so as to use the value of parent function to operate something we need to have use \n",
    "                                         #return and not print"
   ]
  },
  {
   "cell_type": "code",
   "execution_count": 32,
   "id": "28741133",
   "metadata": {},
   "outputs": [],
   "source": [
    "obj2= cls2(25,5)"
   ]
  },
  {
   "cell_type": "code",
   "execution_count": 33,
   "id": "7b7daef9",
   "metadata": {},
   "outputs": [
    {
     "name": "stdout",
     "output_type": "stream",
     "text": [
      "15.0\n"
     ]
    }
   ],
   "source": [
    "obj2.cl_avg()"
   ]
  },
  {
   "cell_type": "code",
   "execution_count": 85,
   "id": "54469fa8",
   "metadata": {},
   "outputs": [],
   "source": [
    "\n",
    "class q1_():\n",
    "    def __init__(self,a):\n",
    "        self.a=a\n",
    "    def summ(self):\n",
    "        s=0\n",
    "        for i in self.a:\n",
    "            if type(i)==int:\n",
    "                s+=i\n",
    "        return s\n",
    "    def avg(self):\n",
    "        s=0\n",
    "        for i in self.a:\n",
    "            if type(i)==int:\n",
    "                s+=i\n",
    "        c=0\n",
    "        for j in self.a:\n",
    "            if type(j)==int:\n",
    "                c+=1\n",
    "        return (s/c)\n",
    "    def length(self):\n",
    "        c=0\n",
    "        for j in self.a:\n",
    "            if type(j)==int:\n",
    "                 c+=1\n",
    "        return c\n",
    "    def reverse(self):\n",
    "        for j in self.a:\n",
    "            self.a[-1:-len(self.a)-1:-1]\n",
    "            return self.a\n",
    "            \n",
    "    "
   ]
  },
  {
   "cell_type": "code",
   "execution_count": 86,
   "id": "442a52bf",
   "metadata": {},
   "outputs": [
    {
     "data": {
      "text/plain": [
       "125"
      ]
     },
     "execution_count": 86,
     "metadata": {},
     "output_type": "execute_result"
    }
   ],
   "source": [
    "q1_([12,35,78]).summ()"
   ]
  },
  {
   "cell_type": "code",
   "execution_count": 87,
   "id": "ed42ad86",
   "metadata": {},
   "outputs": [
    {
     "data": {
      "text/plain": [
       "13.0"
      ]
     },
     "execution_count": 87,
     "metadata": {},
     "output_type": "execute_result"
    }
   ],
   "source": [
    "q1_([12,13,14]).avg()"
   ]
  },
  {
   "cell_type": "code",
   "execution_count": 88,
   "id": "db324f64",
   "metadata": {},
   "outputs": [
    {
     "data": {
      "text/plain": [
       "3"
      ]
     },
     "execution_count": 88,
     "metadata": {},
     "output_type": "execute_result"
    }
   ],
   "source": [
    "q1_([12,13,14]).length()"
   ]
  },
  {
   "cell_type": "code",
   "execution_count": 89,
   "id": "76fc84fb",
   "metadata": {},
   "outputs": [
    {
     "data": {
      "text/plain": [
       "[12, 35, 78]"
      ]
     },
     "execution_count": 89,
     "metadata": {},
     "output_type": "execute_result"
    }
   ],
   "source": [
    "l=[12,35,78]\n",
    "q1_(l).reverse()\n",
    "l"
   ]
  },
  {
   "cell_type": "code",
   "execution_count": 90,
   "id": "75df46d9",
   "metadata": {},
   "outputs": [
    {
     "data": {
      "text/plain": [
       "[12, 35, 78]"
      ]
     },
     "execution_count": 90,
     "metadata": {},
     "output_type": "execute_result"
    }
   ],
   "source": [
    "l"
   ]
  },
  {
   "cell_type": "code",
   "execution_count": 125,
   "id": "49ee5fca",
   "metadata": {},
   "outputs": [],
   "source": [
    "#q2\n",
    "class vehicle:\n",
    "    def __init__(self,name,max_speed,mileage):\n",
    "        self.name = name\n",
    "        self.max_speed= max_speed\n",
    "        self.mileage = mileage\n",
    "class Bus(vehicle):\n",
    "    def __init__(self,r,t,q):\n",
    "        super().__init__(r,t,q)    \n",
    "        "
   ]
  },
  {
   "cell_type": "code",
   "execution_count": 126,
   "id": "6536f4d9",
   "metadata": {},
   "outputs": [],
   "source": [
    "obj2= Bus('volvo',180,12)\n"
   ]
  },
  {
   "cell_type": "code",
   "execution_count": 129,
   "id": "4714db50",
   "metadata": {},
   "outputs": [
    {
     "name": "stdout",
     "output_type": "stream",
     "text": [
      "volvo 180 12\n"
     ]
    }
   ],
   "source": [
    "print(obj2.name,obj2.max_speed,obj2.mileage)"
   ]
  },
  {
   "cell_type": "code",
   "execution_count": 133,
   "id": "b5046b3f",
   "metadata": {},
   "outputs": [],
   "source": [
    "#FILE HANDLING:---- TO HANDLE FILES OUTSIDE CODE\n",
    "# w (WRITE)-- > CREAYTE A NEW FILE OR EDIT DATA IN EXISTING FILE\n",
    "#r (read)---> acess data from existing file with read only permission\n",
    "#a (append)---> add new data after pre existing values in a file"
   ]
  },
  {
   "cell_type": "code",
   "execution_count": 134,
   "id": "6622163b",
   "metadata": {},
   "outputs": [],
   "source": [
    "f= open(\"fileclass.txt\",\"w\")"
   ]
  },
  {
   "cell_type": "code",
   "execution_count": 135,
   "id": "4a5ba03f",
   "metadata": {},
   "outputs": [],
   "source": [
    "f.write(\"hey guys wlcm back to my channel\")\n",
    "f.close()"
   ]
  },
  {
   "cell_type": "code",
   "execution_count": 2,
   "id": "0f0ba841",
   "metadata": {},
   "outputs": [],
   "source": [
    "f= open(\"C:/Users/Divya/OneDrive/Desktop/COLLEGE/class4.txt\",\"w\")\n",
    "f.write(\"hey guys \\nwlcm back to my channel\")\n",
    "f.write(\"\\n\")\n",
    "#for i in range(1,11):\n",
    "#    f.write(str(2*i))\n",
    "f.close()"
   ]
  },
  {
   "cell_type": "code",
   "execution_count": 3,
   "id": "35f64001",
   "metadata": {},
   "outputs": [],
   "source": [
    "f= open(\"C:/Users/Divya/OneDrive/Desktop/COLLEGE/class4.txt\",\"r\")\n",
    "s=f.read()"
   ]
  },
  {
   "cell_type": "code",
   "execution_count": 4,
   "id": "185c74b2",
   "metadata": {},
   "outputs": [
    {
     "name": "stdout",
     "output_type": "stream",
     "text": [
      "hey guys \n",
      "wlcm back to my channel\n",
      "\n"
     ]
    }
   ],
   "source": [
    "print(s)"
   ]
  },
  {
   "cell_type": "code",
   "execution_count": 7,
   "id": "44dd9d87",
   "metadata": {},
   "outputs": [],
   "source": [
    "f= open(\"C:/Users/Divya/OneDrive/Desktop/COLLEGE/class4.txt\",\"w\")\n",
    "f.write(\"hey guys \\nwlcm back to your channel\")\n",
    "f.write(\"\\n\")\n",
    "#for i in range(1,11):\n",
    "#    f.write(str(2*i))\n",
    "f.close()"
   ]
  },
  {
   "cell_type": "code",
   "execution_count": 8,
   "id": "51950e84",
   "metadata": {},
   "outputs": [],
   "source": [
    "f= open(\"C:/Users/Divya/OneDrive/Desktop/COLLEGE/class4.txt\",\"r\")\n",
    "s=f.read()"
   ]
  },
  {
   "cell_type": "code",
   "execution_count": 9,
   "id": "ea6a0863",
   "metadata": {},
   "outputs": [
    {
     "name": "stdout",
     "output_type": "stream",
     "text": [
      "hey guys \n",
      "wlcm back to your channel\n",
      "\n"
     ]
    }
   ],
   "source": [
    "print(s)"
   ]
  },
  {
   "cell_type": "code",
   "execution_count": 10,
   "id": "2391917a",
   "metadata": {},
   "outputs": [],
   "source": [
    "f= open(\"C:/Users/Divya/OneDrive/Desktop/COLLEGE/class4.txt\",\"a\")\n",
    "f.write(\"bye guuys\")\n",
    "f.write(\"\\n\")\n",
    "f.close()"
   ]
  },
  {
   "cell_type": "code",
   "execution_count": 12,
   "id": "27724999",
   "metadata": {},
   "outputs": [],
   "source": [
    "f= open(\"C:/Users/Divya/OneDrive/Desktop/COLLEGE/class4.txt\",\"r\")\n",
    "s=f.read()"
   ]
  },
  {
   "cell_type": "code",
   "execution_count": 13,
   "id": "940e1ca3",
   "metadata": {},
   "outputs": [
    {
     "name": "stdout",
     "output_type": "stream",
     "text": [
      "hey guys \n",
      "wlcm back to your channel\n",
      "bye guuys\n",
      "\n"
     ]
    }
   ],
   "source": [
    "print(s)\n"
   ]
  },
  {
   "cell_type": "code",
   "execution_count": 15,
   "id": "5e166ff9",
   "metadata": {},
   "outputs": [
    {
     "name": "stdout",
     "output_type": "stream",
     "text": [
      "enter a number3\n",
      "enter a number0\n",
      "invalid\n",
      "success\n"
     ]
    }
   ],
   "source": [
    "try:\n",
    "    a=int(input('enter a number'))    # using try we show that there may be an error but after that part code is run AS IT IS\n",
    "    b=int(input('enter a number'))\n",
    "    print(a/b)\n",
    "except Exception:\n",
    "    print(\"invalid\")\n",
    "print(\"success\")"
   ]
  },
  {
   "cell_type": "code",
   "execution_count": 17,
   "id": "75f6591a",
   "metadata": {},
   "outputs": [
    {
     "name": "stdout",
     "output_type": "stream",
     "text": [
      "enter a number3\n",
      "enter a number0\n"
     ]
    },
    {
     "ename": "ZeroDivisionError",
     "evalue": "division by zero",
     "output_type": "error",
     "traceback": [
      "\u001b[1;31m---------------------------------------------------------------------------\u001b[0m",
      "\u001b[1;31mZeroDivisionError\u001b[0m                         Traceback (most recent call last)",
      "\u001b[1;32m~\\AppData\\Local\\Temp\\ipykernel_24344\\3450315235.py\u001b[0m in \u001b[0;36m<module>\u001b[1;34m\u001b[0m\n\u001b[0;32m      1\u001b[0m \u001b[0ma\u001b[0m\u001b[1;33m=\u001b[0m\u001b[0mint\u001b[0m\u001b[1;33m(\u001b[0m\u001b[0minput\u001b[0m\u001b[1;33m(\u001b[0m\u001b[1;34m'enter a number'\u001b[0m\u001b[1;33m)\u001b[0m\u001b[1;33m)\u001b[0m\u001b[1;33m\u001b[0m\u001b[1;33m\u001b[0m\u001b[0m\n\u001b[0;32m      2\u001b[0m \u001b[0mb\u001b[0m\u001b[1;33m=\u001b[0m\u001b[0mint\u001b[0m\u001b[1;33m(\u001b[0m\u001b[0minput\u001b[0m\u001b[1;33m(\u001b[0m\u001b[1;34m'enter a number'\u001b[0m\u001b[1;33m)\u001b[0m\u001b[1;33m)\u001b[0m\u001b[1;33m\u001b[0m\u001b[1;33m\u001b[0m\u001b[0m\n\u001b[1;32m----> 3\u001b[1;33m \u001b[0mprint\u001b[0m\u001b[1;33m(\u001b[0m\u001b[0ma\u001b[0m\u001b[1;33m/\u001b[0m\u001b[0mb\u001b[0m\u001b[1;33m)\u001b[0m\u001b[1;33m\u001b[0m\u001b[1;33m\u001b[0m\u001b[0m\n\u001b[0m\u001b[0;32m      4\u001b[0m \u001b[0mprint\u001b[0m\u001b[1;33m(\u001b[0m\u001b[1;34m\"success\"\u001b[0m\u001b[1;33m)\u001b[0m\u001b[1;33m\u001b[0m\u001b[1;33m\u001b[0m\u001b[0m\n",
      "\u001b[1;31mZeroDivisionError\u001b[0m: division by zero"
     ]
    }
   ],
   "source": [
    "a=int(input('enter a number'))    \n",
    "b=int(input('enter a number'))\n",
    "print(a/b)\n",
    "print(\"success\")"
   ]
  },
  {
   "cell_type": "code",
   "execution_count": 19,
   "id": "c67158ec",
   "metadata": {},
   "outputs": [
    {
     "name": "stdout",
     "output_type": "stream",
     "text": [
      "enter a number5\n",
      "enter a numberh\n",
      "invalid inputs\n",
      "success\n"
     ]
    }
   ],
   "source": [
    "try:\n",
    "    a=int(input('enter a number'))    # using try we show that there may be an error but after that part code is run AS IT IS\n",
    "    b=int(input('enter a number'))\n",
    "    print(a/b)\n",
    "except ValueError:\n",
    "    print(\"invalid inputs\")\n",
    "except ZeroDivisionError:\n",
    "    print('enter non zero denominator')\n",
    "except Exception:\n",
    "    print('exception')\n",
    "print(\"success\")"
   ]
  },
  {
   "cell_type": "code",
   "execution_count": 20,
   "id": "acc9b6a0",
   "metadata": {},
   "outputs": [
    {
     "name": "stdout",
     "output_type": "stream",
     "text": [
      "hurray!!!\n"
     ]
    }
   ],
   "source": [
    "#intention error\n",
    "try:\n",
    "    for i in range(1,100):\n",
    "        if i==9:\n",
    "            raise Exception(\"mill gya mc\")\n",
    "except Exception:\n",
    "    print(\"hurray!!!\")"
   ]
  },
  {
   "cell_type": "code",
   "execution_count": null,
   "id": "13f7a3ee",
   "metadata": {},
   "outputs": [],
   "source": []
  }
 ],
 "metadata": {
  "kernelspec": {
   "display_name": "Python 3 (ipykernel)",
   "language": "python",
   "name": "python3"
  },
  "language_info": {
   "codemirror_mode": {
    "name": "ipython",
    "version": 3
   },
   "file_extension": ".py",
   "mimetype": "text/x-python",
   "name": "python",
   "nbconvert_exporter": "python",
   "pygments_lexer": "ipython3",
   "version": "3.9.13"
  }
 },
 "nbformat": 4,
 "nbformat_minor": 5
}
