{
 "cells": [
  {
   "cell_type": "code",
   "execution_count": null,
   "id": "5b9241d2",
   "metadata": {},
   "outputs": [],
   "source": [
    "#FUNCTIONS:- THEY ARE SET OF CODE THAT IS EXECUTED WHEN WE CALL IT\n",
    "#            USED TO INCREASE REUSABLITY OF CODE\n",
    "#FUNCTIONS:- 1 INBUILT:- LEN(),sum(),max()\n",
    "            #2 USER DEFINED:-def function_name(parameter):\n",
    "                                 #body"
   ]
  },
  {
   "cell_type": "code",
   "execution_count": 4,
   "id": "6f96d3df",
   "metadata": {},
   "outputs": [],
   "source": [
    "def le(k):\n",
    "    l=0\n",
    "    for i in k:\n",
    "        l+=1\n",
    "    print(l)"
   ]
  },
  {
   "cell_type": "code",
   "execution_count": 5,
   "id": "df5244f4",
   "metadata": {},
   "outputs": [
    {
     "name": "stdout",
     "output_type": "stream",
     "text": [
      "7\n"
     ]
    }
   ],
   "source": [
    "l =[1,3,2,34,5,53,3]\n",
    "le(l)"
   ]
  },
  {
   "cell_type": "code",
   "execution_count": 6,
   "id": "c114ba0d",
   "metadata": {},
   "outputs": [],
   "source": [
    "#parameter function define ke time use hote h aur arguement call ke time use hote h"
   ]
  },
  {
   "cell_type": "code",
   "execution_count": 7,
   "id": "9e3656c1",
   "metadata": {},
   "outputs": [
    {
     "name": "stdout",
     "output_type": "stream",
     "text": [
      "10.285714285714286\n"
     ]
    }
   ],
   "source": [
    "l=[12,34,6,[8,3],6,3]\n",
    "#wap to find avg of given list\n",
    "le=0\n",
    "s=0\n",
    "for i in l:\n",
    "    if type(i)== list:\n",
    "        for j in i:\n",
    "            le+=1\n",
    "            s+=j\n",
    "    else:\n",
    "        le+=1\n",
    "        s+=i\n",
    "print(s/le)"
   ]
  },
  {
   "cell_type": "code",
   "execution_count": 8,
   "id": "11c2e56d",
   "metadata": {},
   "outputs": [
    {
     "data": {
      "text/plain": [
       "[12, 34, 6, 8, 3, 6, 3]"
      ]
     },
     "execution_count": 8,
     "metadata": {},
     "output_type": "execute_result"
    }
   ],
   "source": [
    "a=[]\n",
    "l=[12,34,6,[8,3],6,3]\n",
    "for i in l:\n",
    "    if type(i)== list:\n",
    "        for j in i:\n",
    "           a.append(j) \n",
    "    else:\n",
    "        a.append(i)\n",
    "a"
   ]
  },
  {
   "cell_type": "code",
   "execution_count": 9,
   "id": "f65b1eab",
   "metadata": {},
   "outputs": [],
   "source": [
    "#return:- output can be reuse  return aate hi function terminate hoga\n",
    "def ki(o):\n",
    "    return \"ohh \"+o"
   ]
  },
  {
   "cell_type": "code",
   "execution_count": 10,
   "id": "df788d5b",
   "metadata": {},
   "outputs": [
    {
     "data": {
      "text/plain": [
       "'ohh yeaahh'"
      ]
     },
     "execution_count": 10,
     "metadata": {},
     "output_type": "execute_result"
    }
   ],
   "source": [
    "h='yeaahh'\n",
    "ki(h)"
   ]
  },
  {
   "cell_type": "code",
   "execution_count": 11,
   "id": "667bae04",
   "metadata": {},
   "outputs": [],
   "source": [
    "h=ki(\"my god\")"
   ]
  },
  {
   "cell_type": "code",
   "execution_count": 12,
   "id": "23d4634f",
   "metadata": {},
   "outputs": [
    {
     "data": {
      "text/plain": [
       "'ohh my god'"
      ]
     },
     "execution_count": 12,
     "metadata": {},
     "output_type": "execute_result"
    }
   ],
   "source": [
    "h"
   ]
  },
  {
   "cell_type": "code",
   "execution_count": 13,
   "id": "05b1da27",
   "metadata": {},
   "outputs": [],
   "source": [
    "#generators: used to get multiple outputs from a function\n",
    "#       yield: keyword used to create a generator"
   ]
  },
  {
   "cell_type": "code",
   "execution_count": 14,
   "id": "de250429",
   "metadata": {},
   "outputs": [],
   "source": [
    "def g():\n",
    "    for i in range (1,12):\n",
    "        yield i"
   ]
  },
  {
   "cell_type": "code",
   "execution_count": 15,
   "id": "c49f34be",
   "metadata": {},
   "outputs": [
    {
     "data": {
      "text/plain": [
       "<generator object g at 0x000001F83A7A4740>"
      ]
     },
     "execution_count": 15,
     "metadata": {},
     "output_type": "execute_result"
    }
   ],
   "source": [
    "g()"
   ]
  },
  {
   "cell_type": "code",
   "execution_count": 16,
   "id": "51913a69",
   "metadata": {},
   "outputs": [
    {
     "data": {
      "text/plain": [
       "[1, 2, 3, 4, 5, 6, 7, 8, 9, 10, 11]"
      ]
     },
     "execution_count": 16,
     "metadata": {},
     "output_type": "execute_result"
    }
   ],
   "source": [
    "list(g())"
   ]
  },
  {
   "cell_type": "code",
   "execution_count": 17,
   "id": "7b814a18",
   "metadata": {},
   "outputs": [
    {
     "data": {
      "text/plain": [
       "[1, 2, 3, 4, 5, 6, 7, 8, 9, 10, 11]"
      ]
     },
     "execution_count": 17,
     "metadata": {},
     "output_type": "execute_result"
    }
   ],
   "source": [
    "t=list(g())\n",
    "t"
   ]
  },
  {
   "cell_type": "code",
   "execution_count": 18,
   "id": "0b9595d8",
   "metadata": {},
   "outputs": [],
   "source": [
    "#wap generaotor to print from 1 till given number\n",
    "def table(n):\n",
    "    for y in range (1,n+1):\n",
    "        for i in range(1,11):\n",
    "            yield (y,'*',i,'=',y*i)\n"
   ]
  },
  {
   "cell_type": "code",
   "execution_count": 19,
   "id": "03a5d236",
   "metadata": {},
   "outputs": [
    {
     "name": "stdout",
     "output_type": "stream",
     "text": [
      "\n"
     ]
    },
    {
     "ename": "ValueError",
     "evalue": "invalid literal for int() with base 10: ''",
     "output_type": "error",
     "traceback": [
      "\u001b[1;31m---------------------------------------------------------------------------\u001b[0m",
      "\u001b[1;31mValueError\u001b[0m                                Traceback (most recent call last)",
      "\u001b[1;32m~\\AppData\\Local\\Temp\\ipykernel_15392\\4177976213.py\u001b[0m in \u001b[0;36m<module>\u001b[1;34m\u001b[0m\n\u001b[1;32m----> 1\u001b[1;33m \u001b[0mp\u001b[0m\u001b[1;33m=\u001b[0m\u001b[0mint\u001b[0m\u001b[1;33m(\u001b[0m\u001b[0minput\u001b[0m\u001b[1;33m(\u001b[0m\u001b[1;33m)\u001b[0m\u001b[1;33m)\u001b[0m\u001b[1;33m\u001b[0m\u001b[1;33m\u001b[0m\u001b[0m\n\u001b[0m\u001b[0;32m      2\u001b[0m \u001b[0mlist\u001b[0m\u001b[1;33m(\u001b[0m\u001b[0mtable\u001b[0m\u001b[1;33m(\u001b[0m\u001b[0mp\u001b[0m\u001b[1;33m)\u001b[0m\u001b[1;33m)\u001b[0m\u001b[1;33m\u001b[0m\u001b[1;33m\u001b[0m\u001b[0m\n",
      "\u001b[1;31mValueError\u001b[0m: invalid literal for int() with base 10: ''"
     ]
    }
   ],
   "source": [
    "p=int(input())\n",
    "list(table(p))\n"
   ]
  },
  {
   "cell_type": "code",
   "execution_count": 20,
   "id": "16acb2a1",
   "metadata": {},
   "outputs": [
    {
     "name": "stdout",
     "output_type": "stream",
     "text": [
      "enter input:-\n"
     ]
    }
   ],
   "source": [
    "s=input('enter input:-')\n",
    "for i in s:\n",
    "    if i.isupper():\n",
    "        print(i, end=\" \")"
   ]
  },
  {
   "cell_type": "code",
   "execution_count": 21,
   "id": "4e0ac829",
   "metadata": {},
   "outputs": [
    {
     "name": "stdout",
     "output_type": "stream",
     "text": [
      "\n",
      "0\n"
     ]
    }
   ],
   "source": [
    "s=input()\n",
    "j=0\n",
    "for i in s:\n",
    "    x=s.count(i)\n",
    "    if(j>x):\n",
    "        j=x\n",
    "print(j)"
   ]
  },
  {
   "cell_type": "code",
   "execution_count": 22,
   "id": "11e701b1",
   "metadata": {},
   "outputs": [
    {
     "name": "stdout",
     "output_type": "stream",
     "text": [
      "\n"
     ]
    }
   ],
   "source": [
    "s=input()\n",
    "for i in s:\n",
    "    if i.isdigit():\n",
    "        print('contains a digit')\n",
    "    "
   ]
  },
  {
   "cell_type": "code",
   "execution_count": 23,
   "id": "63af2b84",
   "metadata": {},
   "outputs": [
    {
     "name": "stdout",
     "output_type": "stream",
     "text": [
      "\n"
     ]
    },
    {
     "ename": "ValueError",
     "evalue": "min() arg is an empty sequence",
     "output_type": "error",
     "traceback": [
      "\u001b[1;31m---------------------------------------------------------------------------\u001b[0m",
      "\u001b[1;31mValueError\u001b[0m                                Traceback (most recent call last)",
      "\u001b[1;32m~\\AppData\\Local\\Temp\\ipykernel_15392\\3496702299.py\u001b[0m in \u001b[0;36m<module>\u001b[1;34m\u001b[0m\n\u001b[0;32m      3\u001b[0m \u001b[1;32mfor\u001b[0m \u001b[0mi\u001b[0m \u001b[1;32min\u001b[0m \u001b[0ms\u001b[0m\u001b[1;33m:\u001b[0m\u001b[1;33m\u001b[0m\u001b[1;33m\u001b[0m\u001b[0m\n\u001b[0;32m      4\u001b[0m     \u001b[0md\u001b[0m\u001b[1;33m[\u001b[0m\u001b[0mi\u001b[0m\u001b[1;33m]\u001b[0m\u001b[1;33m=\u001b[0m\u001b[0ms\u001b[0m\u001b[1;33m.\u001b[0m\u001b[0mcount\u001b[0m\u001b[1;33m(\u001b[0m\u001b[0mi\u001b[0m\u001b[1;33m)\u001b[0m\u001b[1;33m\u001b[0m\u001b[1;33m\u001b[0m\u001b[0m\n\u001b[1;32m----> 5\u001b[1;33m \u001b[0mm\u001b[0m\u001b[1;33m=\u001b[0m\u001b[0mmin\u001b[0m\u001b[1;33m(\u001b[0m\u001b[0md\u001b[0m\u001b[1;33m.\u001b[0m\u001b[0mvalues\u001b[0m\u001b[1;33m(\u001b[0m\u001b[1;33m)\u001b[0m\u001b[1;33m)\u001b[0m\u001b[1;33m\u001b[0m\u001b[1;33m\u001b[0m\u001b[0m\n\u001b[0m\u001b[0;32m      6\u001b[0m \u001b[1;32mfor\u001b[0m \u001b[0mi\u001b[0m \u001b[1;32min\u001b[0m \u001b[0md\u001b[0m\u001b[1;33m:\u001b[0m\u001b[1;33m\u001b[0m\u001b[1;33m\u001b[0m\u001b[0m\n\u001b[0;32m      7\u001b[0m     \u001b[1;32mif\u001b[0m \u001b[0md\u001b[0m\u001b[1;33m[\u001b[0m\u001b[0mi\u001b[0m\u001b[1;33m]\u001b[0m\u001b[1;33m==\u001b[0m\u001b[0mm\u001b[0m\u001b[1;33m:\u001b[0m\u001b[1;33m\u001b[0m\u001b[1;33m\u001b[0m\u001b[0m\n",
      "\u001b[1;31mValueError\u001b[0m: min() arg is an empty sequence"
     ]
    }
   ],
   "source": [
    "s=input()\n",
    "d={}\n",
    "for i in s:\n",
    "    d[i]=s.count(i)\n",
    "m=min(d.values())\n",
    "for i in d:\n",
    "    if d[i]==m:\n",
    "        print(i)\n",
    "\n"
   ]
  },
  {
   "cell_type": "code",
   "execution_count": 24,
   "id": "27183afd",
   "metadata": {},
   "outputs": [],
   "source": [
    "h='hello four bhai how are you'"
   ]
  },
  {
   "cell_type": "code",
   "execution_count": 25,
   "id": "f9611cc2",
   "metadata": {},
   "outputs": [
    {
     "name": "stdout",
     "output_type": "stream",
     "text": [
      "['hello', 'four', 'bhai', 'how', 'are', 'you']\n"
     ]
    }
   ],
   "source": [
    "j=h.split(' ')\n",
    "print(j)"
   ]
  },
  {
   "cell_type": "code",
   "execution_count": 26,
   "id": "a029d655",
   "metadata": {},
   "outputs": [
    {
     "name": "stdout",
     "output_type": "stream",
     "text": [
      "four\n",
      "bhai\n"
     ]
    }
   ],
   "source": [
    "i=0\n",
    "while i < len(j):\n",
    "    if len(j[i])%2==0:\n",
    "        print(j[i])\n",
    "    i=i+1"
   ]
  },
  {
   "cell_type": "code",
   "execution_count": 27,
   "id": "04148cae",
   "metadata": {},
   "outputs": [],
   "source": [
    "#recurrsion : loop se efficient and outpur]t mein khud ko call krta hai"
   ]
  },
  {
   "cell_type": "code",
   "execution_count": 28,
   "id": "55494df8",
   "metadata": {},
   "outputs": [],
   "source": [
    "#1-10\n",
    "def cou(s,e):\n",
    "    if s<=e:\n",
    "        print(s)\n",
    "        return cou(s+1,e)\n",
    "    "
   ]
  },
  {
   "cell_type": "code",
   "execution_count": 29,
   "id": "441810bb",
   "metadata": {},
   "outputs": [
    {
     "name": "stdout",
     "output_type": "stream",
     "text": [
      "1\n",
      "2\n",
      "3\n",
      "4\n",
      "5\n",
      "6\n",
      "7\n",
      "8\n",
      "9\n",
      "10\n",
      "11\n",
      "12\n"
     ]
    }
   ],
   "source": [
    "cou(1,12)"
   ]
  },
  {
   "cell_type": "code",
   "execution_count": 30,
   "id": "b50ccfca",
   "metadata": {},
   "outputs": [
    {
     "name": "stdout",
     "output_type": "stream",
     "text": [
      "0\n",
      "1\n",
      "1\n",
      "2\n",
      "3\n",
      "5\n",
      "8\n",
      "13\n",
      "21\n"
     ]
    }
   ],
   "source": [
    "#fibonacci series : 0 1 1 2 3 5 8 13 \n",
    "a=0\n",
    "print(a)\n",
    "b=1\n",
    "print(b)\n",
    "for i in range (2,9):\n",
    "    c=a+b\n",
    "    print(c)\n",
    "    a=b\n",
    "    b=c"
   ]
  },
  {
   "cell_type": "code",
   "execution_count": 31,
   "id": "e9297bdf",
   "metadata": {},
   "outputs": [],
   "source": [
    "def fib(n,a=0,b=1,cou=0):\n",
    "    if cou==0:\n",
    "        print(0)\n",
    "        print(1)\n",
    "        cou+=2\n",
    "    if cou<n:\n",
    "        c=a+b\n",
    "        print(c)\n",
    "        cou+=1\n",
    "        return fib(n,b,c,cou)"
   ]
  },
  {
   "cell_type": "code",
   "execution_count": 32,
   "id": "7b223a60",
   "metadata": {},
   "outputs": [
    {
     "name": "stdout",
     "output_type": "stream",
     "text": [
      "0\n",
      "1\n",
      "1\n",
      "2\n",
      "3\n",
      "5\n",
      "8\n",
      "13\n",
      "21\n"
     ]
    }
   ],
   "source": [
    "fib(9)"
   ]
  },
  {
   "cell_type": "code",
   "execution_count": 33,
   "id": "00c2292d",
   "metadata": {},
   "outputs": [],
   "source": [
    "#class is a collection of corelated function\n",
    "# --> used to store function in acorlated and structured format to increase their reusability.\n",
    "#class class_name:\n",
    "#    body functions\n",
    "# init :- function that initiates when we crete or call class"
   ]
  },
  {
   "cell_type": "code",
   "execution_count": 34,
   "id": "b8625fb0",
   "metadata": {},
   "outputs": [],
   "source": [
    "#syntax:\n",
    "#class calc:\n",
    "#   def__init__(self,a,b):\n",
    "#       print(\"recieved,a,b\")\n",
    "#self ---> first arguement pass in instructor\n",
    "#init----> constructor"
   ]
  },
  {
   "cell_type": "code",
   "execution_count": 35,
   "id": "30d912db",
   "metadata": {},
   "outputs": [],
   "source": [
    "class calc():\n",
    "    def __init__(self,t,u):\n",
    "        self.t = t     #global\n",
    "        self.u = u     #global\n",
    "        print(\"recieved\",t,',',u)\n",
    "    def sum(self):\n",
    "        print(self.t+self.u)\n",
    "    def sub(self):\n",
    "        print(self.t-self.u)\n",
    "    def mul(self):\n",
    "        print(self.t*self.u)\n",
    "    def div(self):\n",
    "        print(self.u/self.t)"
   ]
  },
  {
   "cell_type": "code",
   "execution_count": 36,
   "id": "6b309cd2",
   "metadata": {},
   "outputs": [
    {
     "name": "stdout",
     "output_type": "stream",
     "text": [
      "recieved 4 , 8\n"
     ]
    }
   ],
   "source": [
    "f= calc(4,8)    #object to call class and function"
   ]
  },
  {
   "cell_type": "code",
   "execution_count": 37,
   "id": "48491bbd",
   "metadata": {},
   "outputs": [
    {
     "name": "stdout",
     "output_type": "stream",
     "text": [
      "12\n"
     ]
    }
   ],
   "source": [
    "f.sum()"
   ]
  },
  {
   "cell_type": "code",
   "execution_count": 38,
   "id": "2a76a14a",
   "metadata": {},
   "outputs": [
    {
     "name": "stdout",
     "output_type": "stream",
     "text": [
      "-4\n"
     ]
    }
   ],
   "source": [
    "#sub, mul,div,\n",
    "f.sub()"
   ]
  },
  {
   "cell_type": "code",
   "execution_count": 39,
   "id": "8c0777d2",
   "metadata": {},
   "outputs": [
    {
     "name": "stdout",
     "output_type": "stream",
     "text": [
      "32\n"
     ]
    }
   ],
   "source": [
    "f.mul()"
   ]
  },
  {
   "cell_type": "code",
   "execution_count": 40,
   "id": "24fe7d18",
   "metadata": {},
   "outputs": [
    {
     "name": "stdout",
     "output_type": "stream",
     "text": [
      "2.0\n"
     ]
    }
   ],
   "source": [
    "f.div()"
   ]
  },
  {
   "cell_type": "code",
   "execution_count": 41,
   "id": "f7b8bbcd",
   "metadata": {},
   "outputs": [],
   "source": [
    "#MODULES:- EXTERNAL SOURCE OF CODE JO APNE CODE MEIN USE KR SKE"
   ]
  },
  {
   "cell_type": "code",
   "execution_count": 42,
   "id": "ac886a52",
   "metadata": {},
   "outputs": [
    {
     "name": "stdout",
     "output_type": "stream",
     "text": [
      "Requirement already satisfied: import-ipynb in c:\\users\\divya\\anaconda3\\lib\\site-packages (0.1.4)\n",
      "Requirement already satisfied: IPython in c:\\users\\divya\\anaconda3\\lib\\site-packages (from import-ipynb) (7.31.1)\n",
      "Requirement already satisfied: nbformat in c:\\users\\divya\\anaconda3\\lib\\site-packages (from import-ipynb) (5.5.0)\n",
      "Requirement already satisfied: prompt-toolkit!=3.0.0,!=3.0.1,<3.1.0,>=2.0.0 in c:\\users\\divya\\anaconda3\\lib\\site-packages (from IPython->import-ipynb) (3.0.20)\n",
      "Requirement already satisfied: colorama in c:\\users\\divya\\anaconda3\\lib\\site-packages (from IPython->import-ipynb) (0.4.5)\n",
      "Requirement already satisfied: pygments in c:\\users\\divya\\anaconda3\\lib\\site-packages (from IPython->import-ipynb) (2.11.2)\n",
      "Requirement already satisfied: matplotlib-inline in c:\\users\\divya\\anaconda3\\lib\\site-packages (from IPython->import-ipynb) (0.1.6)\n",
      "Requirement already satisfied: backcall in c:\\users\\divya\\anaconda3\\lib\\site-packages (from IPython->import-ipynb) (0.2.0)\n",
      "Requirement already satisfied: setuptools>=18.5 in c:\\users\\divya\\anaconda3\\lib\\site-packages (from IPython->import-ipynb) (63.4.1)\n",
      "Requirement already satisfied: pickleshare in c:\\users\\divya\\anaconda3\\lib\\site-packages (from IPython->import-ipynb) (0.7.5)\n",
      "Requirement already satisfied: jedi>=0.16 in c:\\users\\divya\\anaconda3\\lib\\site-packages (from IPython->import-ipynb) (0.18.1)\n",
      "Requirement already satisfied: decorator in c:\\users\\divya\\anaconda3\\lib\\site-packages (from IPython->import-ipynb) (5.1.1)\n",
      "Requirement already satisfied: traitlets>=4.2 in c:\\users\\divya\\anaconda3\\lib\\site-packages (from IPython->import-ipynb) (5.1.1)\n",
      "Requirement already satisfied: jupyter_core in c:\\users\\divya\\anaconda3\\lib\\site-packages (from nbformat->import-ipynb) (4.11.1)\n",
      "Requirement already satisfied: jsonschema>=2.6 in c:\\users\\divya\\anaconda3\\lib\\site-packages (from nbformat->import-ipynb) (4.16.0)\n",
      "Requirement already satisfied: fastjsonschema in c:\\users\\divya\\anaconda3\\lib\\site-packages (from nbformat->import-ipynb) (2.16.2)\n",
      "Requirement already satisfied: parso<0.9.0,>=0.8.0 in c:\\users\\divya\\anaconda3\\lib\\site-packages (from jedi>=0.16->IPython->import-ipynb) (0.8.3)\n",
      "Requirement already satisfied: pyrsistent!=0.17.0,!=0.17.1,!=0.17.2,>=0.14.0 in c:\\users\\divya\\anaconda3\\lib\\site-packages (from jsonschema>=2.6->nbformat->import-ipynb) (0.18.0)\n",
      "Requirement already satisfied: attrs>=17.4.0 in c:\\users\\divya\\anaconda3\\lib\\site-packages (from jsonschema>=2.6->nbformat->import-ipynb) (21.4.0)\n",
      "Requirement already satisfied: wcwidth in c:\\users\\divya\\anaconda3\\lib\\site-packages (from prompt-toolkit!=3.0.0,!=3.0.1,<3.1.0,>=2.0.0->IPython->import-ipynb) (0.2.5)\n",
      "Requirement already satisfied: pywin32>=1.0 in c:\\users\\divya\\anaconda3\\lib\\site-packages (from jupyter_core->nbformat->import-ipynb) (302)\n"
     ]
    }
   ],
   "source": [
    "! pip install import-ipynb"
   ]
  },
  {
   "cell_type": "code",
   "execution_count": 43,
   "id": "c5f8b94f",
   "metadata": {},
   "outputs": [],
   "source": [
    "import import_ipynb\n",
    "import module_trial"
   ]
  },
  {
   "cell_type": "code",
   "execution_count": 44,
   "id": "9d959f00",
   "metadata": {},
   "outputs": [
    {
     "name": "stdout",
     "output_type": "stream",
     "text": [
      "6\n"
     ]
    }
   ],
   "source": [
    "l =[1,3,2,34,59876,3]\n",
    "module_trial.le(l)"
   ]
  },
  {
   "cell_type": "code",
   "execution_count": null,
   "id": "3232ff99",
   "metadata": {},
   "outputs": [],
   "source": []
  }
 ],
 "metadata": {
  "kernelspec": {
   "display_name": "Python 3 (ipykernel)",
   "language": "python",
   "name": "python3"
  },
  "language_info": {
   "codemirror_mode": {
    "name": "ipython",
    "version": 3
   },
   "file_extension": ".py",
   "mimetype": "text/x-python",
   "name": "python",
   "nbconvert_exporter": "python",
   "pygments_lexer": "ipython3",
   "version": "3.9.13"
  }
 },
 "nbformat": 4,
 "nbformat_minor": 5
}
