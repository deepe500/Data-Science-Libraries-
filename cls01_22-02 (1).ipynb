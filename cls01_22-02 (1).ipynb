{
 "cells": [
  {
   "cell_type": "code",
   "execution_count": 1,
   "id": "effdc1a3",
   "metadata": {},
   "outputs": [],
   "source": [
    "a=89"
   ]
  },
  {
   "cell_type": "code",
   "execution_count": 2,
   "id": "dd90337e",
   "metadata": {},
   "outputs": [
    {
     "name": "stdout",
     "output_type": "stream",
     "text": [
      "89\n"
     ]
    }
   ],
   "source": [
    "print(a)"
   ]
  },
  {
   "cell_type": "code",
   "execution_count": 3,
   "id": "54a5f2d8",
   "metadata": {},
   "outputs": [],
   "source": [
    "# a--> variable -> as variable is a memory allocation used to store values\n",
    "# variable names: unique names provided to a variable for its unique identification\n",
    "#rules for naming identifiers:-\n",
    "# 1  should not start with a number\n",
    "# 2  should not contain any special character wxcept\"_\"(underscore)\n",
    "# 3  can contain alphabets,numbers,_\n",
    "# 4  cannot be a keyword\n",
    "\n",
    "\n",
    "\n",
    "# keywords:- predefined set of words dedicated to perform a task. eg:- and,or,is,not...,true,etc\n",
    "\n",
    "\n",
    "#data types:\n",
    "#int--> integer--> 1,2,3,-63,...\n",
    "#float---> fractional data   ---> 0.98,0.88,...\n",
    "# str ----> string ---> all values enclosed in quotes\"\"\n",
    "#bool ---> boolean ---> True/False(t,f capital hona chahiye)\n",
    "\n",
    "\n",
    "\n",
    "#use \"type\" function to check the data type"
   ]
  },
  {
   "cell_type": "code",
   "execution_count": 4,
   "id": "caeb748b",
   "metadata": {},
   "outputs": [
    {
     "name": "stdout",
     "output_type": "stream",
     "text": [
      "<class 'str'>\n"
     ]
    }
   ],
   "source": [
    "j='true'\n",
    "print(type(j))"
   ]
  },
  {
   "cell_type": "code",
   "execution_count": 5,
   "id": "44201e39",
   "metadata": {},
   "outputs": [
    {
     "name": "stdout",
     "output_type": "stream",
     "text": [
      "<class 'str'>\n",
      "<class 'int'>\n"
     ]
    }
   ],
   "source": [
    "q=9000\n",
    "p='9000'\n",
    "print(type(p))\n",
    "print(type(q))"
   ]
  },
  {
   "cell_type": "code",
   "execution_count": 6,
   "id": "a9d3f4b1",
   "metadata": {},
   "outputs": [
    {
     "name": "stdout",
     "output_type": "stream",
     "text": [
      "<class 'bool'>\n"
     ]
    }
   ],
   "source": [
    "r=True\n",
    "print(type(r))"
   ]
  },
  {
   "cell_type": "code",
   "execution_count": 7,
   "id": "932cfe59",
   "metadata": {},
   "outputs": [
    {
     "name": "stdout",
     "output_type": "stream",
     "text": [
      "8\n"
     ]
    }
   ],
   "source": [
    "#operator:-\n",
    "   # 1 arithematic operator :- +,/,-,*,**,%\n",
    "# / --> quotient --> in decimal places\n",
    "# // --> float division ---> in integer values\n",
    "# % ---> modolus ---> remainder(int)\n",
    "# ** ---> power ---> exponents\n",
    "print(2**3)"
   ]
  },
  {
   "cell_type": "code",
   "execution_count": 8,
   "id": "46b70986",
   "metadata": {},
   "outputs": [],
   "source": [
    "# comparision operators:\n",
    "   #   <,>,<=,>=,==,!=\n",
    "    # == ---> comparision operator\n",
    "    # = ---> assignment operator"
   ]
  },
  {
   "cell_type": "code",
   "execution_count": 14,
   "id": "0a96ec66",
   "metadata": {},
   "outputs": [
    {
     "data": {
      "text/plain": [
       "6"
      ]
     },
     "execution_count": 14,
     "metadata": {},
     "output_type": "execute_result"
    }
   ],
   "source": [
    "a=123456\n",
    "a%10"
   ]
  },
  {
   "cell_type": "code",
   "execution_count": 21,
   "id": "c564e72e",
   "metadata": {},
   "outputs": [
    {
     "data": {
      "text/plain": [
       "5"
      ]
     },
     "execution_count": 21,
     "metadata": {},
     "output_type": "execute_result"
    }
   ],
   "source": [
    "a=a//10\n",
    "a%10"
   ]
  },
  {
   "cell_type": "code",
   "execution_count": 22,
   "id": "18ae5409",
   "metadata": {},
   "outputs": [
    {
     "data": {
      "text/plain": [
       "4"
      ]
     },
     "execution_count": 22,
     "metadata": {},
     "output_type": "execute_result"
    }
   ],
   "source": [
    "a=a//10\n",
    "a%10"
   ]
  },
  {
   "cell_type": "markdown",
   "id": "215cd02f",
   "metadata": {},
   "source": [
    "a=a//10\n",
    "a%10"
   ]
  },
  {
   "cell_type": "code",
   "execution_count": 24,
   "id": "1ab067d5",
   "metadata": {},
   "outputs": [
    {
     "name": "stdout",
     "output_type": "stream",
     "text": [
      "80\n"
     ]
    }
   ],
   "source": [
    "#wap to add a1 and a2 without using inbuilt function, + operator\n",
    "a=30\n",
    "b=50\n",
    "print(a-(-b))\n"
   ]
  },
  {
   "cell_type": "code",
   "execution_count": 25,
   "id": "38728a50",
   "metadata": {},
   "outputs": [],
   "source": [
    "#logical operator: \n",
    "   #  and,or,not\n",
    "    "
   ]
  },
  {
   "cell_type": "code",
   "execution_count": 26,
   "id": "b01f7ef6",
   "metadata": {},
   "outputs": [],
   "source": [
    "#and ---> returns true only when both the values are true\n",
    "# or----> returns true when anyone condition is true\n",
    "# not ---> value is reversed"
   ]
  },
  {
   "cell_type": "code",
   "execution_count": 33,
   "id": "1c3e99f9",
   "metadata": {},
   "outputs": [
    {
     "data": {
      "text/plain": [
       "6"
      ]
     },
     "execution_count": 33,
     "metadata": {},
     "output_type": "execute_result"
    }
   ],
   "source": [
    "False or 6"
   ]
  },
  {
   "cell_type": "code",
   "execution_count": 34,
   "id": "79fba9f3",
   "metadata": {},
   "outputs": [
    {
     "data": {
      "text/plain": [
       "True"
      ]
     },
     "execution_count": 34,
     "metadata": {},
     "output_type": "execute_result"
    }
   ],
   "source": [
    "#BODMAS IS FOLLOWED\n",
    "4+5 > 5-1"
   ]
  },
  {
   "cell_type": "code",
   "execution_count": 35,
   "id": "61de5398",
   "metadata": {},
   "outputs": [
    {
     "data": {
      "text/plain": [
       "21"
      ]
     },
     "execution_count": 35,
     "metadata": {},
     "output_type": "execute_result"
    }
   ],
   "source": [
    "(9-2)*3"
   ]
  },
  {
   "cell_type": "code",
   "execution_count": 37,
   "id": "970e3afa",
   "metadata": {},
   "outputs": [
    {
     "name": "stdout",
     "output_type": "stream",
     "text": [
      "5\n",
      "_aw\n"
     ]
    }
   ],
   "source": [
    "_aw = 8-3\n",
    "print(_aw)\n",
    "print(\"_aw\")"
   ]
  },
  {
   "cell_type": "code",
   "execution_count": 38,
   "id": "9c319083",
   "metadata": {},
   "outputs": [
    {
     "name": "stdout",
     "output_type": "stream",
     "text": [
      "enter a number33\n"
     ]
    }
   ],
   "source": [
    "# input function\n",
    "r= input(\"enter a number\")\n"
   ]
  },
  {
   "cell_type": "code",
   "execution_count": 39,
   "id": "a2c8f662",
   "metadata": {},
   "outputs": [
    {
     "name": "stdout",
     "output_type": "stream",
     "text": [
      "33\n"
     ]
    }
   ],
   "source": [
    "print(r)"
   ]
  },
  {
   "cell_type": "code",
   "execution_count": 40,
   "id": "8162ea50",
   "metadata": {},
   "outputs": [
    {
     "data": {
      "text/plain": [
       "str"
      ]
     },
     "execution_count": 40,
     "metadata": {},
     "output_type": "execute_result"
    }
   ],
   "source": [
    "type(r)"
   ]
  },
  {
   "cell_type": "code",
   "execution_count": 41,
   "id": "f178d9ac",
   "metadata": {},
   "outputs": [],
   "source": [
    "# by default input() takes all input in strimg form\n"
   ]
  },
  {
   "cell_type": "code",
   "execution_count": 43,
   "id": "68698bd6",
   "metadata": {},
   "outputs": [],
   "source": [
    "# Typecasting: process of converting value of one data type to another"
   ]
  },
  {
   "cell_type": "code",
   "execution_count": 44,
   "id": "61438f5d",
   "metadata": {},
   "outputs": [],
   "source": [
    "t= int(r)"
   ]
  },
  {
   "cell_type": "code",
   "execution_count": 45,
   "id": "d868068f",
   "metadata": {},
   "outputs": [
    {
     "data": {
      "text/plain": [
       "int"
      ]
     },
     "execution_count": 45,
     "metadata": {},
     "output_type": "execute_result"
    }
   ],
   "source": [
    "type(t)"
   ]
  },
  {
   "cell_type": "code",
   "execution_count": 54,
   "id": "816106e3",
   "metadata": {},
   "outputs": [
    {
     "name": "stdout",
     "output_type": "stream",
     "text": [
      "enter 1st number11\n",
      "enter 2nd number9\n",
      "sum 20\n",
      "diff 2\n",
      "prod 99\n"
     ]
    }
   ],
   "source": [
    "#wap get two numbers from user and print their sum, prod and diff separately\n",
    "p=int (input(\"enter 1st number\"))\n",
    "o=int (input(\"enter 2nd number\"))\n",
    "print('sum',p+o)\n",
    "print('diff',p-o)\n",
    "print('prod',p*o)\n"
   ]
  },
  {
   "cell_type": "code",
   "execution_count": 55,
   "id": "3515e78f",
   "metadata": {},
   "outputs": [
    {
     "name": "stdout",
     "output_type": "stream",
     "text": [
      "length-3\n",
      "breadtgh-4\n",
      "area of rectangle 12\n"
     ]
    }
   ],
   "source": [
    "# wap to take length and breadth and print area\n",
    "p=int (input(\"length-\"))\n",
    "o=int (input(\"breadtgh-\"))\n",
    "print('area of rectangle',p*o)"
   ]
  },
  {
   "cell_type": "code",
   "execution_count": 56,
   "id": "29b38e69",
   "metadata": {},
   "outputs": [
    {
     "name": "stdout",
     "output_type": "stream",
     "text": [
      "enter the dist covered5\n",
      "area of circle 78.5\n"
     ]
    }
   ],
   "source": [
    "#man walks n meters in a st line, if dist covered is a radius then find area of circle\n",
    "r= int(input(\"enter the dist covered\"))\n",
    "print('area of circle',3.14*r**2)"
   ]
  },
  {
   "cell_type": "code",
   "execution_count": 57,
   "id": "60cae25c",
   "metadata": {},
   "outputs": [],
   "source": [
    "#''----> 1 line\n",
    "#\"\" ----> 1line\n",
    "#'\"\"'  ---- multi line"
   ]
  },
  {
   "cell_type": "code",
   "execution_count": 59,
   "id": "c76f93bf",
   "metadata": {},
   "outputs": [
    {
     "name": "stdout",
     "output_type": "stream",
     "text": [
      "this is 1st session \n",
      "enjoy\n"
     ]
    }
   ],
   "source": [
    "g='''this is 1st session \n",
    "enjoy'''\n",
    "\n",
    "\n",
    "print(g)"
   ]
  },
  {
   "cell_type": "code",
   "execution_count": 60,
   "id": "e257ed1d",
   "metadata": {},
   "outputs": [
    {
     "name": "stdout",
     "output_type": "stream",
     "text": [
      "55\n",
      "55\n"
     ]
    }
   ],
   "source": [
    "# eval function -  used to capture the value given irrespective data type\n",
    "y = eval(input())\n",
    "print(y)"
   ]
  },
  {
   "cell_type": "code",
   "execution_count": 62,
   "id": "f5b47c6f",
   "metadata": {},
   "outputs": [
    {
     "data": {
      "text/plain": [
       "int"
      ]
     },
     "execution_count": 62,
     "metadata": {},
     "output_type": "execute_result"
    }
   ],
   "source": [
    "type(y)"
   ]
  },
  {
   "cell_type": "code",
   "execution_count": 63,
   "id": "f11ff3e4",
   "metadata": {},
   "outputs": [],
   "source": [
    "# a+=1\n",
    "#a=a+1\n",
    "#b-=2      b=b-2\n",
    "#//=\n",
    "#+=\n",
    "#*=\n",
    "#**=\n",
    "#+=\n",
    "#-="
   ]
  },
  {
   "cell_type": "code",
   "execution_count": 64,
   "id": "8f69ac71",
   "metadata": {},
   "outputs": [],
   "source": [
    "# strin:- immutable collection of ordered data\n",
    "d= 'Hello World'"
   ]
  },
  {
   "cell_type": "code",
   "execution_count": 65,
   "id": "e03fd604",
   "metadata": {},
   "outputs": [],
   "source": [
    "# 1 Indexing: Acess values using its position\n",
    "# string_name[position]"
   ]
  },
  {
   "cell_type": "code",
   "execution_count": 69,
   "id": "313e98d2",
   "metadata": {},
   "outputs": [
    {
     "data": {
      "text/plain": [
       "'l'"
      ]
     },
     "execution_count": 69,
     "metadata": {},
     "output_type": "execute_result"
    }
   ],
   "source": [
    "d[3]"
   ]
  },
  {
   "cell_type": "code",
   "execution_count": 71,
   "id": "3aa329bc",
   "metadata": {},
   "outputs": [
    {
     "data": {
      "text/plain": [
       "'d'"
      ]
     },
     "execution_count": 71,
     "metadata": {},
     "output_type": "execute_result"
    }
   ],
   "source": [
    "d[-1]"
   ]
  },
  {
   "cell_type": "code",
   "execution_count": 75,
   "id": "19134e5b",
   "metadata": {},
   "outputs": [
    {
     "name": "stdout",
     "output_type": "stream",
     "text": [
      "bekar\n",
      "b e k\n"
     ]
    }
   ],
   "source": [
    "# get user input and print its first 3 letters\n",
    "r=input()\n",
    "print(r[0],r[1],r[2])\n"
   ]
  },
  {
   "cell_type": "code",
   "execution_count": 76,
   "id": "6d57b417",
   "metadata": {},
   "outputs": [],
   "source": [
    "# slicing: \n",
    "# var_name[start_index:end_index+1:steps]          by default steps has a value of 1\n"
   ]
  },
  {
   "cell_type": "code",
   "execution_count": 77,
   "id": "23e84231",
   "metadata": {},
   "outputs": [
    {
     "data": {
      "text/plain": [
       "'Hello World'"
      ]
     },
     "execution_count": 77,
     "metadata": {},
     "output_type": "execute_result"
    }
   ],
   "source": [
    "d"
   ]
  },
  {
   "cell_type": "code",
   "execution_count": 79,
   "id": "cabf9a6e",
   "metadata": {},
   "outputs": [
    {
     "data": {
      "text/plain": [
       "'llo W'"
      ]
     },
     "execution_count": 79,
     "metadata": {},
     "output_type": "execute_result"
    }
   ],
   "source": [
    "d[2:7]"
   ]
  },
  {
   "cell_type": "code",
   "execution_count": 83,
   "id": "e190f5c1",
   "metadata": {},
   "outputs": [
    {
     "data": {
      "text/plain": [
       "'eehn'"
      ]
     },
     "execution_count": 83,
     "metadata": {},
     "output_type": "execute_result"
    }
   ],
   "source": [
    "s= 'elephant'\n",
    "#output = eehn\n",
    "s[0:7:2]\n",
    "s[::2]"
   ]
  },
  {
   "cell_type": "code",
   "execution_count": 85,
   "id": "9cd46963",
   "metadata": {},
   "outputs": [
    {
     "data": {
      "text/plain": [
       "8"
      ]
     },
     "execution_count": 85,
     "metadata": {},
     "output_type": "execute_result"
    }
   ],
   "source": [
    "#length of a string function\n",
    "len(s)"
   ]
  },
  {
   "cell_type": "code",
   "execution_count": 97,
   "id": "7e1e0676",
   "metadata": {},
   "outputs": [
    {
     "data": {
      "text/plain": [
       "'hello'"
      ]
     },
     "execution_count": 97,
     "metadata": {},
     "output_type": "execute_result"
    }
   ],
   "source": [
    "#wap to print first half of string\n",
    "t='hello there'\n",
    "t[0:len(t)//2:1]"
   ]
  },
  {
   "cell_type": "code",
   "execution_count": 98,
   "id": "87793b02",
   "metadata": {},
   "outputs": [
    {
     "data": {
      "text/plain": [
       "' there'"
      ]
     },
     "execution_count": 98,
     "metadata": {},
     "output_type": "execute_result"
    }
   ],
   "source": [
    "#wap 2nd half\n",
    "t[len(t)//2:len(t)+1:1]"
   ]
  },
  {
   "cell_type": "code",
   "execution_count": 100,
   "id": "80dceb48",
   "metadata": {},
   "outputs": [
    {
     "data": {
      "text/plain": [
       "'regit'"
      ]
     },
     "execution_count": 100,
     "metadata": {},
     "output_type": "execute_result"
    }
   ],
   "source": [
    "r='tiger'\n",
    "r[-1:-len(r)-1:-1]"
   ]
  },
  {
   "cell_type": "code",
   "execution_count": 108,
   "id": "fb6423a3",
   "metadata": {},
   "outputs": [
    {
     "data": {
      "text/plain": [
       "'elephtna'"
      ]
     },
     "execution_count": 108,
     "metadata": {},
     "output_type": "execute_result"
    }
   ],
   "source": [
    "f ='elephant'\n",
    "#  elephtan\n",
    "f[0:5:1]+f[-1:-4:-1]"
   ]
  },
  {
   "cell_type": "code",
   "execution_count": 112,
   "id": "a40363df",
   "metadata": {},
   "outputs": [
    {
     "data": {
      "text/plain": [
       "-10.0"
      ]
     },
     "execution_count": 112,
     "metadata": {},
     "output_type": "execute_result"
    }
   ],
   "source": [
    "#error is shown when we use a module for -100 sqrt where as in normal - and 100 are solved separately\n",
    "-100**(1/2)"
   ]
  },
  {
   "cell_type": "code",
   "execution_count": 113,
   "id": "721b5fe5",
   "metadata": {},
   "outputs": [
    {
     "ename": "NameError",
     "evalue": "name 'sqrt' is not defined",
     "output_type": "error",
     "traceback": [
      "\u001b[1;31m---------------------------------------------------------------------------\u001b[0m",
      "\u001b[1;31mNameError\u001b[0m                                 Traceback (most recent call last)",
      "\u001b[1;32m~\\AppData\\Local\\Temp\\ipykernel_8900\\3460296288.py\u001b[0m in \u001b[0;36m<module>\u001b[1;34m\u001b[0m\n\u001b[0;32m      1\u001b[0m \u001b[0mx\u001b[0m\u001b[1;33m=\u001b[0m\u001b[1;33m-\u001b[0m\u001b[1;36m100\u001b[0m\u001b[1;33m\u001b[0m\u001b[1;33m\u001b[0m\u001b[0m\n\u001b[1;32m----> 2\u001b[1;33m \u001b[0msqrt\u001b[0m\u001b[1;33m(\u001b[0m\u001b[0mx\u001b[0m\u001b[1;33m)\u001b[0m\u001b[1;33m\u001b[0m\u001b[1;33m\u001b[0m\u001b[0m\n\u001b[0m",
      "\u001b[1;31mNameError\u001b[0m: name 'sqrt' is not defined"
     ]
    }
   ],
   "source": [
    "x=-100\n",
    "sqrt(x)"
   ]
  },
  {
   "cell_type": "code",
   "execution_count": 114,
   "id": "61dfb080",
   "metadata": {},
   "outputs": [
    {
     "name": "stdout",
     "output_type": "stream",
     "text": [
      "6.0\n"
     ]
    }
   ],
   "source": [
    "#wap area of triangle\n",
    "x=3\n",
    "y=4\n",
    "area = 1/2*x*y\n",
    "print(area)"
   ]
  },
  {
   "cell_type": "code",
   "execution_count": 115,
   "id": "357586f9",
   "metadata": {},
   "outputs": [
    {
     "name": "stdout",
     "output_type": "stream",
     "text": [
      "perimeter is 32\n"
     ]
    }
   ],
   "source": [
    "#wap perimeter of sq\n",
    "x=8\n",
    "print('perimeter is',4*x)"
   ]
  },
  {
   "cell_type": "code",
   "execution_count": 116,
   "id": "67664cb6",
   "metadata": {},
   "outputs": [
    {
     "name": "stdout",
     "output_type": "stream",
     "text": [
      "area of field 327593.06\n"
     ]
    }
   ],
   "source": [
    "#11\n",
    "r= 323\n",
    "print('area of field',3.14*r**2)"
   ]
  },
  {
   "cell_type": "code",
   "execution_count": 118,
   "id": "3c3caab1",
   "metadata": {},
   "outputs": [
    {
     "name": "stdout",
     "output_type": "stream",
     "text": [
      "population in millions 2.3 million\n"
     ]
    }
   ],
   "source": [
    "#12 population\n",
    "r=2300000\n",
    "print('population in millions',r/1000000,'million')"
   ]
  },
  {
   "cell_type": "code",
   "execution_count": 120,
   "id": "d6726d60",
   "metadata": {},
   "outputs": [],
   "source": [
    "# strin:--\n",
    "#cases:--\n",
    "# 1--- upper case ---> all capital\n",
    " #   2---- lower case --> all lower\n",
    "  #  3----title case ----> first letter of each word is upper rest small\n",
    "   # 4---- capitalize --> first letter of first word of the string is in capital\n",
    "    # 5-----swapcase -->  reverse case of existing string\n",
    "    "
   ]
  },
  {
   "cell_type": "code",
   "execution_count": 121,
   "id": "a86116d4",
   "metadata": {},
   "outputs": [],
   "source": [
    "a=\"helLo wOrld\"\n"
   ]
  },
  {
   "cell_type": "code",
   "execution_count": 123,
   "id": "d37e51fe",
   "metadata": {},
   "outputs": [
    {
     "data": {
      "text/plain": [
       "'HELLO WORLD'"
      ]
     },
     "execution_count": 123,
     "metadata": {},
     "output_type": "execute_result"
    }
   ],
   "source": [
    "a.upper()"
   ]
  },
  {
   "cell_type": "code",
   "execution_count": 124,
   "id": "119f385c",
   "metadata": {},
   "outputs": [
    {
     "data": {
      "text/plain": [
       "'hello world'"
      ]
     },
     "execution_count": 124,
     "metadata": {},
     "output_type": "execute_result"
    }
   ],
   "source": [
    "a.lower()"
   ]
  },
  {
   "cell_type": "code",
   "execution_count": 126,
   "id": "5d605107",
   "metadata": {},
   "outputs": [
    {
     "data": {
      "text/plain": [
       "'Hello world'"
      ]
     },
     "execution_count": 126,
     "metadata": {},
     "output_type": "execute_result"
    }
   ],
   "source": [
    "a.capitalize()"
   ]
  },
  {
   "cell_type": "code",
   "execution_count": 133,
   "id": "8fd29404",
   "metadata": {},
   "outputs": [
    {
     "data": {
      "text/plain": [
       "'HELLO WORLD'"
      ]
     },
     "execution_count": 133,
     "metadata": {},
     "output_type": "execute_result"
    }
   ],
   "source": [
    "a.swapcase()\n",
    "\n"
   ]
  },
  {
   "cell_type": "code",
   "execution_count": 134,
   "id": "691297f8",
   "metadata": {},
   "outputs": [],
   "source": [
    "#string function ---1 split\n",
    "#a.split(delimeter)"
   ]
  },
  {
   "cell_type": "code",
   "execution_count": 135,
   "id": "5f274cab",
   "metadata": {},
   "outputs": [
    {
     "data": {
      "text/plain": [
       "['hello', 'world']"
      ]
     },
     "execution_count": 135,
     "metadata": {},
     "output_type": "execute_result"
    }
   ],
   "source": [
    "a.split()"
   ]
  },
  {
   "cell_type": "code",
   "execution_count": 138,
   "id": "1258c4fc",
   "metadata": {},
   "outputs": [
    {
     "data": {
      "text/plain": [
       "['he', '', 'o wor', 'd']"
      ]
     },
     "execution_count": 138,
     "metadata": {},
     "output_type": "execute_result"
    }
   ],
   "source": [
    "a.split('l')\n",
    "#jonsa letter daloge wahion se kaat dega"
   ]
  },
  {
   "cell_type": "code",
   "execution_count": 140,
   "id": "16e2dd8e",
   "metadata": {},
   "outputs": [
    {
     "data": {
      "text/plain": [
       "['he', '', 'o wor', 'd']"
      ]
     },
     "execution_count": 140,
     "metadata": {},
     "output_type": "execute_result"
    }
   ],
   "source": [
    "h=a.split('l')\n",
    "h"
   ]
  },
  {
   "cell_type": "code",
   "execution_count": 142,
   "id": "9aa87491",
   "metadata": {},
   "outputs": [
    {
     "data": {
      "text/plain": [
       "'hello world'"
      ]
     },
     "execution_count": 142,
     "metadata": {},
     "output_type": "execute_result"
    }
   ],
   "source": [
    "#join function--- fevicol ka kaam bas letter dena h jo missing\n",
    "\"l\".join(h)"
   ]
  },
  {
   "cell_type": "code",
   "execution_count": 143,
   "id": "71e303e4",
   "metadata": {},
   "outputs": [
    {
     "data": {
      "text/plain": [
       "'heooo worod'"
      ]
     },
     "execution_count": 143,
     "metadata": {},
     "output_type": "execute_result"
    }
   ],
   "source": [
    "\"o\".join(h)"
   ]
  },
  {
   "cell_type": "code",
   "execution_count": 145,
   "id": "e386c5be",
   "metadata": {},
   "outputs": [
    {
     "data": {
      "text/plain": [
       "'akkpkkpkklkke'"
      ]
     },
     "execution_count": 145,
     "metadata": {},
     "output_type": "execute_result"
    }
   ],
   "source": [
    "j=\"apple\"\n",
    "\"kk\".join(j)"
   ]
  },
  {
   "cell_type": "code",
   "execution_count": 147,
   "id": "a89081d8",
   "metadata": {},
   "outputs": [
    {
     "data": {
      "text/plain": [
       "False"
      ]
     },
     "execution_count": 147,
     "metadata": {},
     "output_type": "execute_result"
    }
   ],
   "source": [
    "#to check the case\n",
    "j=\"tommy\"\n",
    "j.isupper()"
   ]
  },
  {
   "cell_type": "code",
   "execution_count": 148,
   "id": "f5293cf3",
   "metadata": {},
   "outputs": [
    {
     "data": {
      "text/plain": [
       "True"
      ]
     },
     "execution_count": 148,
     "metadata": {},
     "output_type": "execute_result"
    }
   ],
   "source": [
    "j.islower()"
   ]
  },
  {
   "cell_type": "code",
   "execution_count": 149,
   "id": "03b89f5c",
   "metadata": {},
   "outputs": [
    {
     "data": {
      "text/plain": [
       "False"
      ]
     },
     "execution_count": 149,
     "metadata": {},
     "output_type": "execute_result"
    }
   ],
   "source": [
    "j.istitle()"
   ]
  },
  {
   "cell_type": "code",
   "execution_count": 150,
   "id": "ad985161",
   "metadata": {},
   "outputs": [],
   "source": [
    "#substring:a part of a string is k.as substring\n",
    "j=\"cls kb khatam hogi\"\n"
   ]
  },
  {
   "cell_type": "code",
   "execution_count": 151,
   "id": "5e1e09e7",
   "metadata": {},
   "outputs": [
    {
     "data": {
      "text/plain": [
       "True"
      ]
     },
     "execution_count": 151,
     "metadata": {},
     "output_type": "execute_result"
    }
   ],
   "source": [
    "'cls' in j"
   ]
  },
  {
   "cell_type": "code",
   "execution_count": 152,
   "id": "c255ce9c",
   "metadata": {},
   "outputs": [],
   "source": [
    "#in---->used to perform membership test"
   ]
  },
  {
   "cell_type": "code",
   "execution_count": 154,
   "id": "460126b7",
   "metadata": {},
   "outputs": [
    {
     "data": {
      "text/plain": [
       "2"
      ]
     },
     "execution_count": 154,
     "metadata": {},
     "output_type": "execute_result"
    }
   ],
   "source": [
    "#count:-- kitni baar aaya ek string mein\n",
    "j.count('k')"
   ]
  },
  {
   "cell_type": "code",
   "execution_count": 158,
   "id": "0572fae5",
   "metadata": {},
   "outputs": [
    {
     "data": {
      "text/plain": [
       "4"
      ]
     },
     "execution_count": 158,
     "metadata": {},
     "output_type": "execute_result"
    }
   ],
   "source": [
    "j.index('kb')\n",
    "#word konse index se start hoga"
   ]
  },
  {
   "cell_type": "code",
   "execution_count": 164,
   "id": "bd57546c",
   "metadata": {},
   "outputs": [
    {
     "name": "stdout",
     "output_type": "stream",
     "text": [
      "enter a string:-hi there how are you\n",
      "search for:how\n",
      "start:- 9\n",
      "end:- 11\n"
     ]
    }
   ],
   "source": [
    "#wap to get input from user and find start and ending index of a word\n",
    "s=input('enter a string:-')\n",
    "c=input('search for:')\n",
    "p=s.index(c)\n",
    "q=len(c)\n",
    "print('start:-',p)\n",
    "print ('end:-',(p+q-1))\n"
   ]
  },
  {
   "cell_type": "code",
   "execution_count": 165,
   "id": "8ea8da4c",
   "metadata": {},
   "outputs": [
    {
     "name": "stdout",
     "output_type": "stream",
     "text": [
      "22\n"
     ]
    }
   ],
   "source": [
    "a='2'\n",
    "print(a*2)"
   ]
  },
  {
   "cell_type": "code",
   "execution_count": null,
   "id": "56041e16",
   "metadata": {},
   "outputs": [],
   "source": []
  }
 ],
 "metadata": {
  "kernelspec": {
   "display_name": "Python 3 (ipykernel)",
   "language": "python",
   "name": "python3"
  },
  "language_info": {
   "codemirror_mode": {
    "name": "ipython",
    "version": 3
   },
   "file_extension": ".py",
   "mimetype": "text/x-python",
   "name": "python",
   "nbconvert_exporter": "python",
   "pygments_lexer": "ipython3",
   "version": "3.9.13"
  }
 },
 "nbformat": 4,
 "nbformat_minor": 5
}
